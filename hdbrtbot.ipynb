{
  "cells": [
    {
      "cell_type": "markdown",
      "metadata": {
        "id": "view-in-github",
        "colab_type": "text"
      },
      "source": [
        "<a href=\"https://colab.research.google.com/github/stormyCobra1199/showcase/blob/main/hdbrtbot.ipynb\" target=\"_parent\"><img src=\"https://colab.research.google.com/assets/colab-badge.svg\" alt=\"Open In Colab\"/></a>"
      ]
    },
    {
      "cell_type": "code",
      "execution_count": null,
      "metadata": {
        "id": "2ASK4ZgEbtEi"
      },
      "outputs": [],
      "source": [
        "### HDB Resale Transaction bot - by M. W. Ho (c) 2022\n",
        "\n",
        "!pip install python-telegram-bot\n",
        "!pip install tabulate\n",
        "\n",
        "import pandas as pd\n",
        "import datetime\n",
        "import logging\n",
        "import requests\n",
        "import json\n",
        "import re\n",
        "import os\n",
        "import matplotlib.pyplot as plt\n",
        "import telegram\n",
        "from telegram.ext import Updater, InlineQueryHandler, CommandHandler\n",
        "from tabulate import tabulate\n",
        "from pandas.plotting import table \n",
        "from matplotlib.backends.backend_pdf import PdfPages\n",
        "\n",
        "PORT = int(os.environ.get('PORT', 8443))\n",
        "# TOKEN = os.environ[\"TOKEN\"]\n",
        "# GTOKEN = os.environ[\"GTOKEN\"]\n",
        "# GID = os.environ[\"GID\"]\n",
        "from myconf import TOKEN, GTOKEN, GID\n",
        "\n",
        "def get_url():\n",
        "    contents = requests.get('https://dog.ceo/api/breeds/image/random').json()\n",
        "    url = contents['message']\n",
        "    return url\n",
        "\n",
        "def get_image_url():\n",
        "    allowed_extension = ['jpg', 'jpeg', 'png']\n",
        "    file_extension = ''\n",
        "    while file_extension not in allowed_extension:\n",
        "        url = get_url()\n",
        "        file_extension = re.search(\"([^.]*)$\", url).group(1).lower()\n",
        "    return url\n",
        "\n",
        "def bop(update, context):\n",
        "    url = get_image_url()\n",
        "    chat_id = update.message.chat.id\n",
        "    context.bot.send_photo(chat_id=chat_id, photo=url)\n",
        "\n",
        "\n",
        "###\n",
        "def start(update, context):\n",
        "    context.bot.send_message(chat_id=update.effective_chat.id, text=\"HDBRT Bot - Get latest HDB Resale Transactions.\\nExamples: Type '/hs 5 Bedok' to view latest 5Rm sold in Bedok, '/hs French' for French Rd latest sold HDB or '/hs DBSS' for all DBSS flats recently sold etc.\")\n",
        "   \n",
        "def hs(update, context):\n",
        "    q=' '.join(context.args)\n",
        "    if q[0] in [\"2\",\"3\",\"4\",\"5\"]:\n",
        "        url = \"https://data.gov.sg/api/action/datastore_search?resource_id=f1765b54-a209-4718-8d38-a39237f502b3&fields=month,block,street_name,flat_type,flat_model,resale_price,floor_area_sqm,lease_commence_date,storey_range&sort=month%20desc&limit=20&filters={\\\"flat_type\\\":\\\"\"+q[0]+\" ROOM\"+\"\\\",\\\"town\\\":\\\"\"+q[2:].upper()+\"\\\"}\"\n",
        "        #context.bot.send_message(chat_id=update.effective_chat.id, text=url)\n",
        "    else:\n",
        "        url = \"https://data.gov.sg/api/action/datastore_search?resource_id=f1765b54-a209-4718-8d38-a39237f502b3&fields=month,block,street_name,flat_type,flat_model,resale_price,floor_area_sqm,lease_commence_date,storey_range&sort=month%20desc&limit=20&q=\"+q\n",
        "    response=requests.get(url)\n",
        "    dataset=response.json()\n",
        "    df = pd.json_normalize(dataset['result'], \"records\")  \n",
        "    df = df.sort_values(by='block').set_index('block').reindex(columns=['street_name','flat_type','flat_model','resale_price','floor_area_sqm','lease_commence_date','storey_range','month'])\n",
        "    df.rename(columns={'street_name': 'street', 'flat_type': 'type', 'resale_price': 'price', 'lease_commence_date': 'built', 'storey_range': 'floor', 'floor_area_sqm': 'sqm', 'flat_model': 'model', 'month': 'sold'}, inplace=True)\n",
        "    df.replace(['2 ROOM', '3 ROOM', '4 ROOM', '5 ROOM', 'New Generation', 'Standard', 'EXECUTIVE', 'Maisonette', 'Simplified', 'Improved'],['2','3','4','5','NG','Std','E','M','S','I'], inplace=True) \n",
        "    df['type']=df['type']+df['model']\n",
        "    df.drop('model', axis=1, inplace=True)\n",
        "    dft=tabulate(df, headers='keys', tablefmt='plain', numalign='left')\n",
        "    # send text table\n",
        "    context.bot.send_message(chat_id=update.effective_chat.id, text=dft)\n",
        "    # send photo\n",
        "    fig, ax = plt.subplots(figsize=(16,8)) # set size frame\n",
        "    ax.axis('tight')\n",
        "    ax.axis('off')\n",
        "    ax.table(cellText=df.values,colLabels=df.columns,loc='center')\n",
        "    pp = PdfPages(\"table.pdf\")\n",
        "    pp.savefig(fig, bbox_inches='tight')\n",
        "    pp.close()\n",
        "    context.bot.send_document(chat_id=update.effective_chat.id, document=open('table.pdf', 'rb'))\n",
        "    ## copy query to gist\n",
        "    query_url = \"https://api.github.com/gists/\"+GID+\"/comments\"\n",
        "    data = {\"body\": q}\n",
        "    headers = {'Authorization': f'token {GTOKEN}'}\n",
        "    r = requests.post(query_url, headers=headers, data=json.dumps(data))\n",
        "\n",
        "def errorhand(update, context):\n",
        "    context.bot.send_message(chat_id=update.effective_chat.id, text=\"Please enter a valid town or search term. Eg: Type '/hs 5 Bedok' to view latest 5Rm sold in Bedok, '/hs French' for French Rd latest sold HDB or '/hs DBSS' for all DBSS flats recently sold etc.\")\n",
        "\n",
        "###\n",
        "def main():\n",
        "    updater = Updater(TOKEN, use_context=True)\n",
        "    dp = updater.dispatcher\n",
        "    dp.add_handler(CommandHandler('start', start))\n",
        "    dp.add_handler(CommandHandler('bop', bop))\n",
        "    dp.add_handler(CommandHandler('hs', hs))\n",
        "    dp.add_error_handler(errorhand)\n",
        "    ##\n",
        "    # updater.start_webhook(listen=\"0.0.0.0\",\n",
        "    #                       port=int(PORT),\n",
        "    #                       url_path=TOKEN)\n",
        "    # updater.bot.setWebhook('https://doggodemo.herokuapp.com/' + TOKEN)\n",
        "    #updater.idle()\n",
        "    updater.start_polling()\n",
        "\n",
        "if __name__ == '__main__':\n",
        "    main()\n"
      ]
    },
    {
      "cell_type": "markdown",
      "metadata": {
        "id": "O6ARRP96pCHi"
      },
      "source": [
        "### run in Console F12\n",
        "\n",
        "function KeepClicking(){\n",
        "console.log(\"Clicking\");\n",
        "document.querySelector(\"colab-connect-button\").click() }\n",
        "setInterval(KeepClicking,60000)"
      ]
    },
    {
      "cell_type": "markdown",
      "metadata": {
        "id": "0dLgvxhZoGnj"
      },
      "source": [
        "### for keeping alive\n",
        "\n",
        "import time\n",
        "t_end = time.time() + 200000 \n",
        "while time.time() < t_end:\n",
        "    time.sleep(360)\n",
        "    print(\"Stayin' alive...\")"
      ]
    },
    {
      "cell_type": "markdown",
      "metadata": {
        "id": "VYC0FKwKoHGs"
      },
      "source": [
        "### for testing API and response only\n",
        "\n",
        "### testing return image\n",
        "import matplotlib.pyplot as plt\n",
        "ax = plt.subplot(frame_on=False) # no visible frame\n",
        "ax.xaxis.set_visible(False)  # hide the x axis\n",
        "ax.yaxis.set_visible(False)  # hide the y axis\n",
        "table(ax, df)  # where df is your data frame\n",
        "plt.rcParams[\"figure.figsize\"] = (18, 1)\n",
        "plt.savefig('mytable.png')"
      ]
    }
  ],
  "metadata": {
    "colab": {
      "collapsed_sections": [],
      "name": "hdbrtbot.ipynb",
      "provenance": [],
      "include_colab_link": true
    },
    "kernelspec": {
      "display_name": "Python 3 (ipykernel)",
      "language": "python",
      "name": "python3"
    },
    "language_info": {
      "codemirror_mode": {
        "name": "ipython",
        "version": 3
      },
      "file_extension": ".py",
      "mimetype": "text/x-python",
      "name": "python",
      "nbconvert_exporter": "python",
      "pygments_lexer": "ipython3",
      "version": "3.9.10"
    }
  },
  "nbformat": 4,
  "nbformat_minor": 0
}