{
  "cells": [
    {
      "cell_type": "markdown",
      "metadata": {
        "id": "-hdEP8b4xKAr"
      },
      "source": [
        "HDB Resale Transaction bot - by M. W. Ho (c) 2022\n"
      ]
    },
    {
      "cell_type": "code",
      "execution_count": null,
      "metadata": {
        "colab": {
          "base_uri": "https://localhost:8080/"
        },
        "id": "2ASK4ZgEbtEi",
        "outputId": "b9570158-4a6b-465b-ce74-1b790a180a6b"
      },
      "outputs": [
        {
          "output_type": "stream",
          "name": "stdout",
          "text": [
            "Requirement already satisfied: python-telegram-bot in /usr/local/lib/python3.7/dist-packages (13.11)\n",
            "Requirement already satisfied: cachetools==4.2.2 in /usr/local/lib/python3.7/dist-packages (from python-telegram-bot) (4.2.2)\n",
            "Requirement already satisfied: tornado>=6.1 in /usr/local/lib/python3.7/dist-packages (from python-telegram-bot) (6.1)\n",
            "Requirement already satisfied: APScheduler==3.6.3 in /usr/local/lib/python3.7/dist-packages (from python-telegram-bot) (3.6.3)\n",
            "Requirement already satisfied: certifi in /usr/local/lib/python3.7/dist-packages (from python-telegram-bot) (2021.10.8)\n",
            "Requirement already satisfied: pytz>=2018.6 in /usr/local/lib/python3.7/dist-packages (from python-telegram-bot) (2022.1)\n",
            "Requirement already satisfied: six>=1.4.0 in /usr/local/lib/python3.7/dist-packages (from APScheduler==3.6.3->python-telegram-bot) (1.15.0)\n",
            "Requirement already satisfied: setuptools>=0.7 in /usr/local/lib/python3.7/dist-packages (from APScheduler==3.6.3->python-telegram-bot) (57.4.0)\n",
            "Requirement already satisfied: tzlocal>=1.2 in /usr/local/lib/python3.7/dist-packages (from APScheduler==3.6.3->python-telegram-bot) (1.5.1)\n",
            "Requirement already satisfied: tabulate in /usr/local/lib/python3.7/dist-packages (0.8.9)\n",
            "\n",
            " {'username': 'HDBResaleTx_bot', 'first_name': 'HDBResaleTx', 'id': 5218309496, 'is_bot': True, 'can_read_all_group_messages': False, 'supports_inline_queries': False, 'can_join_groups': True} \n",
            "\n"
          ]
        }
      ],
      "source": [
        "!pip install python-telegram-bot\n",
        "!pip install tabulate\n",
        "import pandas as pd\n",
        "import requests\n",
        "import telegram\n",
        "\n",
        "from tabulate import tabulate\n",
        "from pandas.plotting import table \n",
        "\n",
        "bot = telegram.Bot(token='5218309496:9URHirwyZgjU')\n",
        "print(\"\\n\",bot.get_me(),\"\\n\")\n",
        "\n",
        "from telegram.ext import Updater\n",
        "updater = Updater(token='5218309496:9URHirwyZgjU', use_context=True)\n",
        "dispatcher = updater.dispatcher\n",
        "\n",
        "import logging\n",
        "logging.basicConfig(format='%(asctime)s - %(name)s - %(levelname)s - %(message)s', level=logging.INFO)"
      ]
    },
    {
      "cell_type": "code",
      "execution_count": null,
      "metadata": {
        "id": "-VcTXBEaCt6c"
      },
      "outputs": [],
      "source": [
        "###\n",
        "from telegram import Update\n",
        "from telegram.ext import CallbackContext\n",
        "import datetime\n",
        "\n",
        "def start(update: Update, context: CallbackContext):\n",
        "    outF = open(\"trackStart.txt\", \"a\")\n",
        "    outF.write(\"1 \")\n",
        "    outF.close()\n",
        "    context.bot.send_message(chat_id=update.effective_chat.id, text=\"HDBRT Bot - Get latest HDB Resale Transactions.\\nExamples: /hs 5 Bedok for 5Rm in Bedok or /hs French for all French Road.\")\n",
        "   \n",
        "def hs(update: Update, context: CallbackContext):\n",
        "    q=' '.join(context.args)\n",
        "    if q[0] in [\"2\",\"3\",\"4\",\"5\"]:\n",
        "        url = \"https://data.gov.sg/api/action/datastore_search?resource_id=f1765b54-a209-4718-8d38-a39237f502b3&fields=month,block,street_name,flat_type,flat_model,resale_price,floor_area_sqm,lease_commence_date,storey_range&sort=month%20desc&limit=20&filters={\\\"flat_type\\\":\\\"\"+q[0]+\" ROOM\"+\"\\\",\\\"town\\\":\\\"\"+q[2:].upper()+\"\\\"}\"\n",
        "        #context.bot.send_message(chat_id=update.effective_chat.id, text=url)\n",
        "    else:\n",
        "        url = \"https://data.gov.sg/api/action/datastore_search?resource_id=f1765b54-a209-4718-8d38-a39237f502b3&fields=month,block,street_name,flat_type,flat_model,resale_price,floor_area_sqm,lease_commence_date,storey_range&sort=month%20desc&limit=20&q=\"+q\n",
        "    response=requests.get(url)\n",
        "    dataset=response.json()\n",
        "    df = pd.json_normalize(dataset['result'], \"records\")  \n",
        "    df = df.sort_values(by='block').set_index('block').reindex(columns=['street_name','flat_type','flat_model','resale_price','floor_area_sqm','lease_commence_date','storey_range','month'])\n",
        "    df.rename(columns={'street_name': 'street', 'flat_type': 'type', 'resale_price': 'price', 'lease_commence_date': 'built', 'storey_range': 'floor', 'floor_area_sqm': 'sqm', 'flat_model': 'model', 'month': 'sold'}, inplace=True)\n",
        "    df.replace(['2 ROOM', '3 ROOM', '4 ROOM', '5 ROOM', 'New Generation', 'Standard', 'EXECUTIVE', 'Maisonette', 'Simplified', 'Improved'],['2','3','4','5','NG','Std','E','M','S','I'], inplace=True) \n",
        "    df['type']=df['type']+df['model']\n",
        "    df.drop('model', axis=1, inplace=True)\n",
        "    dft=tabulate(df, headers='keys', tablefmt='plain', numalign='left')\n",
        "    context.bot.send_message(chat_id=update.effective_chat.id, text=dft)\n",
        "    ct = datetime.datetime.now()\n",
        "    outF = open(str(ct), \"w\")\n",
        "    outF.write(dft)\n",
        "    outF.close()\n",
        "\n",
        "def errorhand(update: Update, context: CallbackContext):\n",
        "    context.bot.send_message(chat_id=update.effective_chat.id, text=\"Please enter a valid town or search term. Eg: /hs 5 Bedok for 5Rm in Bedok or /hs French for all French Road.\")\n",
        "\n",
        "    "
      ]
    },
    {
      "cell_type": "code",
      "execution_count": null,
      "metadata": {
        "colab": {
          "base_uri": "https://localhost:8080/"
        },
        "id": "i1uwcY6_dYmI",
        "outputId": "b20e85fd-3a49-48a5-fbca-c8a8c6c0e383"
      },
      "outputs": [
        {
          "output_type": "stream",
          "name": "stderr",
          "text": [
            "2022-05-02 07:06:16,222 - apscheduler.scheduler - INFO - Scheduler started\n"
          ]
        },
        {
          "output_type": "execute_result",
          "data": {
            "text/plain": [
              "<queue.Queue at 0x7fd81aa92c90>"
            ]
          },
          "metadata": {},
          "execution_count": 3
        }
      ],
      "source": [
        "###\n",
        "def main():\n",
        "  from telegram.ext import CommandHandler\n",
        "\n",
        "  start_handler = CommandHandler('start', start)\n",
        "  dispatcher.add_handler(start_handler)\n",
        "\n",
        "  hs_handler = CommandHandler('hs', hs)\n",
        "  dispatcher.add_handler(hs_handler)\n",
        "  dispatcher.add_error_handler(errorhand)\n",
        "\n",
        "  bot.send_message(text='Bot initiated.', chat_id=1349303768)\n",
        "\n",
        "  #####\n",
        "  updater.start_polling()\n",
        "  updater.idle()\n",
        "\n",
        "if __name__ == \"__main__\":\n",
        "    main()\n"
      ]
    },
    {
      "cell_type": "markdown",
      "source": [
        "### run in Console F12\n",
        "\n",
        "function KeepClicking(){\n",
        "console.log(\"Clicking\");\n",
        "document.querySelector(\"colab-connect-button\").click() }\n",
        "setInterval(KeepClicking,60000)"
      ],
      "metadata": {
        "id": "O6ARRP96pCHi"
      }
    },
    {
      "cell_type": "markdown",
      "source": [
        "### for keeping alive\n",
        "\n",
        "import time\n",
        "t_end = time.time() + 20000 #while time.time() < t_end:\n",
        "    # do whatever you want\n",
        "    time.sleep(60)\n",
        "    print(\"Stayin' alive...\")"
      ],
      "metadata": {
        "id": "0dLgvxhZoGnj"
      }
    },
    {
      "cell_type": "markdown",
      "source": [
        "### for testing API and response only\n",
        "\n",
        "### testing return image\n",
        "import matplotlib.pyplot as plt\n",
        "ax = plt.subplot(frame_on=False) # no visible frame\n",
        "ax.xaxis.set_visible(False)  # hide the x axis\n",
        "ax.yaxis.set_visible(False)  # hide the y axis\n",
        "table(ax, df)  # where df is your data frame\n",
        "plt.rcParams[\"figure.figsize\"] = (18, 1)\n",
        "plt.savefig('mytable.png')"
      ],
      "metadata": {
        "id": "VYC0FKwKoHGs"
      }
    }
  ],
  "metadata": {
    "colab": {
      "collapsed_sections": [],
      "name": "resaleHDBpx.ipynb",
      "provenance": []
    },
    "kernelspec": {
      "display_name": "Python 3 (ipykernel)",
      "language": "python",
      "name": "python3"
    },
    "language_info": {
      "codemirror_mode": {
        "name": "ipython",
        "version": 3
      },
      "file_extension": ".py",
      "mimetype": "text/x-python",
      "name": "python",
      "nbconvert_exporter": "python",
      "pygments_lexer": "ipython3",
      "version": "3.9.10"
    }
  },
  "nbformat": 4,
  "nbformat_minor": 0
}