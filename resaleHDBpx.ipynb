{
 "cells": [
  {
   "cell_type": "markdown",
   "metadata": {},
   "source": [
    "HDB Resale Transaction bot - by M. W. Ho (c) 2022\n"
   ]
  },
  {
   "cell_type": "code",
   "execution_count": 1,
   "metadata": {
    "colab": {
     "base_uri": "https://localhost:8080/"
    },
    "execution": {
     "iopub.execute_input": "2022-04-18T04:29:13.004407Z",
     "iopub.status.busy": "2022-04-18T04:29:13.003776Z",
     "iopub.status.idle": "2022-04-18T04:29:21.148488Z",
     "shell.execute_reply": "2022-04-18T04:29:21.147622Z",
     "shell.execute_reply.started": "2022-04-18T04:29:13.004321Z"
    },
    "id": "2ASK4ZgEbtEi",
    "outputId": "027cf55c-f88e-41dd-f631-ff4763c8b640"
   },
   "outputs": [
    {
     "name": "stdout",
     "output_type": "stream",
     "text": [
      "\u001b[33mWARNING: The directory '/home/jovyan/.cache/pip' or its parent directory is not owned or is not writable by the current user. The cache has been disabled. Check the permissions and owner of that directory. If executing pip with sudo, you should use sudo's -H flag.\u001b[0m\u001b[33m\n",
      "\u001b[0mRequirement already satisfied: python-telegram-bot in /opt/conda/lib/python3.9/site-packages (13.11)\n",
      "Requirement already satisfied: tornado>=6.1 in /opt/conda/lib/python3.9/site-packages (from python-telegram-bot) (6.1)\n",
      "Requirement already satisfied: pytz>=2018.6 in /opt/conda/lib/python3.9/site-packages (from python-telegram-bot) (2021.3)\n",
      "Requirement already satisfied: APScheduler==3.6.3 in /opt/conda/lib/python3.9/site-packages (from python-telegram-bot) (3.6.3)\n",
      "Requirement already satisfied: cachetools==4.2.2 in /opt/conda/lib/python3.9/site-packages (from python-telegram-bot) (4.2.2)\n",
      "Requirement already satisfied: certifi in /opt/conda/lib/python3.9/site-packages (from python-telegram-bot) (2021.10.8)\n",
      "Requirement already satisfied: tzlocal>=1.2 in /opt/conda/lib/python3.9/site-packages (from APScheduler==3.6.3->python-telegram-bot) (4.1)\n",
      "Requirement already satisfied: six>=1.4.0 in /opt/conda/lib/python3.9/site-packages (from APScheduler==3.6.3->python-telegram-bot) (1.16.0)\n",
      "Requirement already satisfied: setuptools>=0.7 in /opt/conda/lib/python3.9/site-packages (from APScheduler==3.6.3->python-telegram-bot) (60.9.3)\n",
      "Requirement already satisfied: pytz-deprecation-shim in /opt/conda/lib/python3.9/site-packages (from tzlocal>=1.2->APScheduler==3.6.3->python-telegram-bot) (0.1.0.post0)\n",
      "Requirement already satisfied: tzdata in /opt/conda/lib/python3.9/site-packages (from pytz-deprecation-shim->tzlocal>=1.2->APScheduler==3.6.3->python-telegram-bot) (2022.1)\n",
      "\u001b[33mWARNING: Running pip as the 'root' user can result in broken permissions and conflicting behaviour with the system package manager. It is recommended to use a virtual environment instead: https://pip.pypa.io/warnings/venv\u001b[0m\u001b[33m\n",
      "\u001b[0m\u001b[33mWARNING: The directory '/home/jovyan/.cache/pip' or its parent directory is not owned or is not writable by the current user. The cache has been disabled. Check the permissions and owner of that directory. If executing pip with sudo, you should use sudo's -H flag.\u001b[0m\u001b[33m\n",
      "\u001b[0mRequirement already satisfied: tabulate in /opt/conda/lib/python3.9/site-packages (0.8.9)\n",
      "\u001b[33mWARNING: Running pip as the 'root' user can result in broken permissions and conflicting behaviour with the system package manager. It is recommended to use a virtual environment instead: https://pip.pypa.io/warnings/venv\u001b[0m\u001b[33m\n",
      "\u001b[0m\n",
      " {'supports_inline_queries': False, 'is_bot': True, 'first_name': 'HDBResaleTx', 'can_join_groups': True, 'username': 'HDBResaleTx_bot', 'id': 5218309496, 'can_read_all_group_messages': False} \n",
      "\n"
     ]
    }
   ],
   "source": [
    "!pip install python-telegram-bot\n",
    "!pip install tabulate\n",
    "import pandas as pd\n",
    "import requests\n",
    "import telegram\n",
    "\n",
    "from tabulate import tabulate\n",
    "from pandas.plotting import table \n",
    "\n",
    "bot = telegram.Bot(token='5218309496:AA9URHirwyZgjU')\n",
    "print(\"\\n\",bot.get_me(),\"\\n\")\n",
    "\n",
    "from telegram.ext import Updater\n",
    "updater = Updater(token='5218309496:AA9URHirwyZgjU', use_context=True)\n",
    "dispatcher = updater.dispatcher\n",
    "\n",
    "import logging\n",
    "logging.basicConfig(format='%(asctime)s - %(name)s - %(levelname)s - %(message)s', level=logging.INFO)"
   ]
  },
  {
   "cell_type": "code",
   "execution_count": 2,
   "metadata": {
    "execution": {
     "iopub.execute_input": "2022-04-18T04:29:21.150193Z",
     "iopub.status.busy": "2022-04-18T04:29:21.150000Z",
     "iopub.status.idle": "2022-04-18T04:29:21.160940Z",
     "shell.execute_reply": "2022-04-18T04:29:21.160013Z",
     "shell.execute_reply.started": "2022-04-18T04:29:21.150172Z"
    },
    "id": "-VcTXBEaCt6c"
   },
   "outputs": [],
   "source": [
    "###\n",
    "from telegram import Update\n",
    "from telegram.ext import CallbackContext\n",
    "import datetime\n",
    "\n",
    "def start(update: Update, context: CallbackContext):\n",
    "    outF = open(\"trackStart.txt\", \"a\")\n",
    "    outF.write(\"1 \")\n",
    "    outF.close()\n",
    "    context.bot.send_message(chat_id=update.effective_chat.id, text=\"HDBRT Bot - Get latest HDB Resale Transactions.\\nExamples: /hs 5 Bedok for 5Rm in Bedok or /hs French for all French Road.\")\n",
    "   \n",
    "def hs(update: Update, context: CallbackContext):\n",
    "    q=' '.join(context.args)\n",
    "    if q[0] in [\"2\",\"3\",\"4\",\"5\"]:\n",
    "        url = \"https://data.gov.sg/api/action/datastore_search?resource_id=f1765b54-a209-4718-8d38-a39237f502b3&fields=month,block,street_name,flat_type,flat_model,resale_price,floor_area_sqm,lease_commence_date,storey_range&sort=month%20desc&limit=20&filters={\\\"flat_type\\\":\\\"\"+q[0]+\" ROOM\"+\"\\\",\\\"town\\\":\\\"\"+q[2:].upper()+\"\\\"}\"\n",
    "        #context.bot.send_message(chat_id=update.effective_chat.id, text=url)\n",
    "    else:\n",
    "        url = \"https://data.gov.sg/api/action/datastore_search?resource_id=f1765b54-a209-4718-8d38-a39237f502b3&fields=month,block,street_name,flat_type,flat_model,resale_price,floor_area_sqm,lease_commence_date,storey_range&sort=month%20desc&limit=20&q=\"+q\n",
    "    response=requests.get(url)\n",
    "    dataset=response.json()\n",
    "    df = pd.json_normalize(dataset['result'], \"records\")  \n",
    "    df = df.sort_values(by='block').set_index('block').reindex(columns=['street_name','flat_type','flat_model','resale_price','floor_area_sqm','lease_commence_date','storey_range','month'])\n",
    "    df.rename(columns={'street_name': 'street', 'flat_type': 'type', 'resale_price': 'price', 'lease_commence_date': 'built', 'storey_range': 'floor', 'floor_area_sqm': 'sqm', 'flat_model': 'model', 'month': 'sold'}, inplace=True)\n",
    "    df.replace(['2 ROOM', '3 ROOM', '4 ROOM', '5 ROOM', 'New Generation', 'Standard', 'EXECUTIVE', 'Maisonette', 'Simplified', 'Improved'],['2','3','4','5','NG','Std','E','M','S','I'], inplace=True) \n",
    "    df['type']=df['type']+df['model']\n",
    "    df.drop('model', axis=1, inplace=True)\n",
    "    dft=tabulate(df, headers='keys', tablefmt='plain', numalign='left')\n",
    "    context.bot.send_message(chat_id=update.effective_chat.id, text=dft)\n",
    "    ct = datetime.datetime.now()\n",
    "    outF = open(str(ct), \"w\")\n",
    "    outF.write(dft)\n",
    "    outF.close()\n",
    "\n",
    "    "
   ]
  },
  {
   "cell_type": "code",
   "execution_count": 3,
   "metadata": {
    "colab": {
     "base_uri": "https://localhost:8080/"
    },
    "execution": {
     "iopub.execute_input": "2022-04-18T04:29:21.208219Z",
     "iopub.status.busy": "2022-04-18T04:29:21.207992Z",
     "iopub.status.idle": "2022-04-18T04:29:21.891116Z",
     "shell.execute_reply": "2022-04-18T04:29:21.890688Z",
     "shell.execute_reply.started": "2022-04-18T04:29:21.208196Z"
    },
    "id": "i1uwcY6_dYmI",
    "outputId": "04168612-0bfe-453e-cc3f-3a0170d91e48"
   },
   "outputs": [
    {
     "name": "stderr",
     "output_type": "stream",
     "text": [
      "2022-04-18 04:29:21,549 - apscheduler.scheduler - INFO - Scheduler started\n"
     ]
    },
    {
     "data": {
      "text/plain": [
       "<queue.Queue at 0x7fba3e0f00a0>"
      ]
     },
     "execution_count": 3,
     "metadata": {},
     "output_type": "execute_result"
    }
   ],
   "source": [
    "###\n",
    "from telegram.ext import CommandHandler\n",
    "\n",
    "start_handler = CommandHandler('start', start)\n",
    "dispatcher.add_handler(start_handler)\n",
    "\n",
    "hs_handler = CommandHandler('hs', hs)\n",
    "dispatcher.add_handler(hs_handler)\n",
    "\n",
    "bot.send_message(text='Bot initiated.', chat_id=1349303768)\n",
    "\n",
    "#####\n",
    "updater.start_polling()\n",
    "\n"
   ]
  },
  {
   "cell_type": "code",
   "execution_count": 4,
   "metadata": {
    "colab": {
     "base_uri": "https://localhost:8080/"
    },
    "execution": {
     "iopub.execute_input": "2022-04-18T04:29:21.892242Z",
     "iopub.status.busy": "2022-04-18T04:29:21.892004Z",
     "iopub.status.idle": "2022-04-18T04:29:21.894288Z",
     "shell.execute_reply": "2022-04-18T04:29:21.893978Z",
     "shell.execute_reply.started": "2022-04-18T04:29:21.892221Z"
    },
    "id": "OBjBf8RNfZ9D",
    "outputId": "b190f9ca-1fde-424a-95d3-92345cbcbedd"
   },
   "outputs": [],
   "source": [
    "### for testing API and response only\n",
    "\n",
    "### testing return image\n",
    "#import matplotlib.pyplot as plt\n",
    "#ax = plt.subplot(frame_on=False) # no visible frame\n",
    "#ax.xaxis.set_visible(False)  # hide the x axis\n",
    "#ax.yaxis.set_visible(False)  # hide the y axis\n",
    "#table(ax, df)  # where df is your data frame\n",
    "#plt.rcParams[\"figure.figsize\"] = (18, 1)\n",
    "#plt.savefig('mytable.png')\n",
    "\n"
   ]
  }
 ],
 "metadata": {
  "colab": {
   "collapsed_sections": [],
   "name": "resaleHDBpx.ipynb",
   "provenance": []
  },
  "kernelspec": {
   "display_name": "Python 3 (ipykernel)",
   "language": "python",
   "name": "python3"
  },
  "language_info": {
   "codemirror_mode": {
    "name": "ipython",
    "version": 3
   },
   "file_extension": ".py",
   "mimetype": "text/x-python",
   "name": "python",
   "nbconvert_exporter": "python",
   "pygments_lexer": "ipython3",
   "version": "3.9.10"
  }
 },
 "nbformat": 4,
 "nbformat_minor": 4
}
