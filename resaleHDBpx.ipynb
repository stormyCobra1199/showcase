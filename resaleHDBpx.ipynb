{
  "nbformat": 4,
  "nbformat_minor": 0,
  "metadata": {
    "colab": {
      "name": "resaleHDBpx.ipynb",
      "provenance": [],
      "collapsed_sections": [],
      "authorship_tag": "ABX9TyP0eE6dufUmtVE+A1Bo7eXn",
      "include_colab_link": true
    },
    "kernelspec": {
      "name": "python3",
      "display_name": "Python 3"
    },
    "language_info": {
      "name": "python"
    }
  },
  "cells": [
    {
      "cell_type": "markdown",
      "metadata": {
        "id": "view-in-github",
        "colab_type": "text"
      },
      "source": [
        "<a href=\"https://colab.research.google.com/github/stormyCobra1199/showcase/blob/main/resaleHDBpx.ipynb\" target=\"_parent\"><img src=\"https://colab.research.google.com/assets/colab-badge.svg\" alt=\"Open In Colab\"/></a>"
      ]
    },
    {
      "cell_type": "code",
      "execution_count": 1,
      "metadata": {
        "colab": {
          "base_uri": "https://localhost:8080/"
        },
        "id": "2ASK4ZgEbtEi",
        "outputId": "c2787721-0e5e-4716-ea8c-ff8d2ef3af48"
      },
      "outputs": [
        {
          "output_type": "stream",
          "name": "stdout",
          "text": [
            "Requirement already satisfied: python-telegram-bot in /usr/local/lib/python3.7/dist-packages (13.11)\n",
            "Requirement already satisfied: cachetools==4.2.2 in /usr/local/lib/python3.7/dist-packages (from python-telegram-bot) (4.2.2)\n",
            "Requirement already satisfied: certifi in /usr/local/lib/python3.7/dist-packages (from python-telegram-bot) (2021.10.8)\n",
            "Requirement already satisfied: APScheduler==3.6.3 in /usr/local/lib/python3.7/dist-packages (from python-telegram-bot) (3.6.3)\n",
            "Requirement already satisfied: pytz>=2018.6 in /usr/local/lib/python3.7/dist-packages (from python-telegram-bot) (2018.9)\n",
            "Requirement already satisfied: tornado>=6.1 in /usr/local/lib/python3.7/dist-packages (from python-telegram-bot) (6.1)\n",
            "Requirement already satisfied: tzlocal>=1.2 in /usr/local/lib/python3.7/dist-packages (from APScheduler==3.6.3->python-telegram-bot) (1.5.1)\n",
            "Requirement already satisfied: six>=1.4.0 in /usr/local/lib/python3.7/dist-packages (from APScheduler==3.6.3->python-telegram-bot) (1.15.0)\n",
            "Requirement already satisfied: setuptools>=0.7 in /usr/local/lib/python3.7/dist-packages (from APScheduler==3.6.3->python-telegram-bot) (57.4.0)\n",
            "\n",
            " {'first_name': 'HDBResaleTx', 'is_bot': True, 'id': 5218309496, 'username': 'HDBResaleTx_bot', 'supports_inline_queries': False, 'can_join_groups': True, 'can_read_all_group_messages': False} \n",
            "\n"
          ]
        }
      ],
      "source": [
        "!pip install python-telegram-bot\n",
        "\n",
        "import pandas as pd\n",
        "import requests\n",
        "import telegram\n",
        "import dataframe_image as dfi\n",
        "\n",
        "bot = telegram.Bot(token='5218309496:AAHV2gIFLgNSK37D98kvFScBiLMxorHotJU')\n",
        "print(\"\\n\",bot.get_me(),\"\\n\")\n",
        "\n",
        "###\n",
        "from telegram.ext import Updater\n",
        "updater = Updater(token='5218309496:AAHV2gIFLgNSK37D98kvFScBiLMxorHotJU', use_context=True)\n",
        "dispatcher = updater.dispatcher\n",
        "\n",
        "###\n",
        "import logging\n",
        "logging.basicConfig(format='%(asctime)s - %(name)s - %(levelname)s - %(message)s',\n",
        "                     level=logging.INFO)\n"
      ]
    },
    {
      "cell_type": "code",
      "source": [
        "###\n",
        "from telegram import Update\n",
        "from telegram.ext import CallbackContext\n",
        "\n",
        "def start(update: Update, context: CallbackContext):\n",
        "    context.bot.send_message(chat_id=update.effective_chat.id, text=\"HDBRT Bot - Get latest HDB Resale Transactions.\\nType / for commands.\")\n",
        "\n",
        "def last10(update: Update, context: CallbackContext):\n",
        "    q=' '.join(context.args)\n",
        "    url = \"https://data.gov.sg/api/action/datastore_search?resource_id=f1765b54-a209-4718-8d38-a39237f502b3&fields=month,block,street_name,flat_type,flat_model,resale_price,floor_area_sqm,remaining_lease,storey_range&sort=month%20desc&limit=10&q=\"+q\n",
        "    response=requests.get(url)\n",
        "    dataset=response.json()\n",
        "    df = pd.json_normalize(dataset['result'], \"records\")\n",
        "    df = df.sort_values(by='block').set_index('block').reindex(columns=['street_name','flat_type','resale_price','remaining_lease','storey_range','floor_area_sqm','flat_model','month'])\n",
        "    context.bot.send_message(chat_id=update.effective_chat.id, text=str(df))\n",
        "\n",
        "def last20(update: Update, context: CallbackContext):\n",
        "    q=' '.join(context.args)\n",
        "    url = \"https://data.gov.sg/api/action/datastore_search?resource_id=f1765b54-a209-4718-8d38-a39237f502b3&fields=month,block,street_name,flat_type,flat_model,resale_price,floor_area_sqm,remaining_lease,storey_range&sort=month%20desc&limit=20&q=\"+q\n",
        "    response=requests.get(url)\n",
        "    dataset=response.json()\n",
        "    df = pd.json_normalize(dataset['result'], \"records\")\n",
        "    df = df.sort_values(by='block').set_index('block').reindex(columns=['street_name','flat_type','resale_price','remaining_lease','storey_range','floor_area_sqm','flat_model','month'])\n",
        "    context.bot.send_message(chat_id=update.effective_chat.id, text=str(df))\n",
        "\n",
        "def last30(update: Update, context: CallbackContext):\n",
        "    q=' '.join(context.args)\n",
        "    url = \"https://data.gov.sg/api/action/datastore_search?resource_id=f1765b54-a209-4718-8d38-a39237f502b3&fields=month,block,street_name,flat_type,flat_model,resale_price,floor_area_sqm,remaining_lease,storey_range&sort=month%20desc&limit=30&q=\"+q\n",
        "    response=requests.get(url)\n",
        "    dataset=response.json()\n",
        "    df = pd.json_normalize(dataset['result'], \"records\")\n",
        "    df = df.sort_values(by='block').set_index('block').reindex(columns=['street_name','flat_type','resale_price','remaining_lease','storey_range','floor_area_sqm','flat_model','month'])\n",
        "    context.bot.send_message(chat_id=update.effective_chat.id, text=str(df))\n",
        "    "
      ],
      "metadata": {
        "id": "-VcTXBEaCt6c"
      },
      "execution_count": 2,
      "outputs": []
    },
    {
      "cell_type": "code",
      "source": [
        "    url = \"https://data.gov.sg/api/action/datastore_search?resource_id=f1765b54-a209-4718-8d38-a39237f502b3&fields=month,block,street_name,flat_type,flat_model,resale_price,floor_area_sqm,remaining_lease,storey_range&sort=month%20desc&limit=20&q=\"\n",
        "    response=requests.get(url)\n",
        "    dataset=response.json()\n",
        "    df = pd.json_normalize(dataset['result'], \"records\")  \n",
        "    df = df.sort_values(by='block').set_index('block').reindex(columns=['street_name','flat_type','resale_price','remaining_lease','storey_range','floor_area_sqm','flat_model','month'])\n",
        "    print(df)\n"
      ],
      "metadata": {
        "colab": {
          "base_uri": "https://localhost:8080/"
        },
        "id": "OBjBf8RNfZ9D",
        "outputId": "220c7c68-f807-4318-e818-4eed833f80db"
      },
      "execution_count": 3,
      "outputs": [
        {
          "output_type": "stream",
          "name": "stdout",
          "text": [
            "             street_name flat_type resale_price     remaining_lease  \\\n",
            "block                                                                 \n",
            "117     ANG MO KIO AVE 4    3 ROOM       340000  55 years 02 months   \n",
            "126     ANG MO KIO AVE 3    3 ROOM       380000  55 years 06 months   \n",
            "128     ANG MO KIO AVE 3    3 ROOM       394888  55 years 06 months   \n",
            "129     ANG MO KIO AVE 3    3 ROOM       350000  55 years 10 months   \n",
            "154     ANG MO KIO AVE 5    3 ROOM       360000  57 years 10 months   \n",
            "348     ANG MO KIO AVE 3    3 ROOM       375000   55 years 01 month   \n",
            "404    ANG MO KIO AVE 10    3 ROOM       400000  56 years 02 months   \n",
            "405    ANG MO KIO AVE 10    3 ROOM       345000  56 years 02 months   \n",
            "418    ANG MO KIO AVE 10    3 ROOM       340000  56 years 05 months   \n",
            "435    ANG MO KIO AVE 10    3 ROOM       335000  55 years 10 months   \n",
            "435    ANG MO KIO AVE 10    3 ROOM       320000  55 years 10 months   \n",
            "473    ANG MO KIO AVE 10    3 ROOM       338000  61 years 04 months   \n",
            "533     ANG MO KIO AVE 5    3 ROOM       330000  56 years 11 months   \n",
            "534    ANG MO KIO AVE 10    3 ROOM       375000  56 years 11 months   \n",
            "547    ANG MO KIO AVE 10    4 ROOM       445000  57 years 10 months   \n",
            "547    ANG MO KIO AVE 10    4 ROOM       452000  57 years 10 months   \n",
            "565     ANG MO KIO AVE 3    4 ROOM       420000  56 years 10 months   \n",
            "587     ANG MO KIO AVE 3    3 ROOM       365000  56 years 03 months   \n",
            "602     ANG MO KIO AVE 5    3 ROOM       338000  57 years 03 months   \n",
            "610     ANG MO KIO AVE 4    3 ROOM       350000  57 years 08 months   \n",
            "\n",
            "      storey_range floor_area_sqm      flat_model    month  \n",
            "block                                                       \n",
            "117       01 TO 03             74  New Generation  2022-04  \n",
            "126       07 TO 09             67  New Generation  2022-04  \n",
            "128       04 TO 06             82  New Generation  2022-04  \n",
            "129       01 TO 03             73  New Generation  2022-04  \n",
            "154       01 TO 03             82  New Generation  2022-04  \n",
            "348       07 TO 09             73  New Generation  2022-04  \n",
            "404       07 TO 09             82  New Generation  2022-04  \n",
            "405       10 TO 12             67  New Generation  2022-04  \n",
            "418       04 TO 06             74  New Generation  2022-04  \n",
            "435       01 TO 03             67  New Generation  2022-04  \n",
            "435       01 TO 03             67  New Generation  2022-04  \n",
            "473       10 TO 12             67  New Generation  2022-04  \n",
            "533       07 TO 09             67  New Generation  2022-04  \n",
            "534       01 TO 03             82  New Generation  2022-04  \n",
            "547       07 TO 09             92  New Generation  2022-04  \n",
            "547       10 TO 12             92  New Generation  2022-04  \n",
            "565       10 TO 12             92  New Generation  2022-04  \n",
            "587       10 TO 12             67  New Generation  2022-04  \n",
            "602       04 TO 06             67  New Generation  2022-04  \n",
            "610       10 TO 12             68  New Generation  2022-04  \n"
          ]
        }
      ]
    },
    {
      "cell_type": "code",
      "source": [
        "###\n",
        "from telegram.ext import CommandHandler\n",
        "\n",
        "start_handler = CommandHandler('start', start)\n",
        "dispatcher.add_handler(start_handler)\n",
        "\n",
        "last10_handler = CommandHandler('last10', last10)\n",
        "dispatcher.add_handler(last10_handler)\n",
        "\n",
        "last20_handler = CommandHandler('last20', last20)\n",
        "dispatcher.add_handler(last20_handler)\n",
        "\n",
        "last30_handler = CommandHandler('last30', last30)\n",
        "dispatcher.add_handler(last30_handler)\n",
        "\n",
        "\n",
        "#####\n",
        "updater.start_polling()\n",
        "\n",
        "bot.send_message(text='Launched!', chat_id=1349303768)"
      ],
      "metadata": {
        "colab": {
          "base_uri": "https://localhost:8080/"
        },
        "id": "i1uwcY6_dYmI",
        "outputId": "dccc8d10-1845-482e-e1d9-bf5f6ac51e81"
      },
      "execution_count": 4,
      "outputs": [
        {
          "output_type": "stream",
          "name": "stderr",
          "text": [
            "2022-04-15 05:16:55,324 - apscheduler.scheduler - INFO - Scheduler started\n"
          ]
        },
        {
          "output_type": "execute_result",
          "data": {
            "text/plain": [
              "<telegram.message.Message at 0x55cdfca84ae0>"
            ]
          },
          "metadata": {},
          "execution_count": 4
        }
      ]
    }
  ]
}