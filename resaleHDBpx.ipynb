{
  "nbformat": 4,
  "nbformat_minor": 0,
  "metadata": {
    "colab": {
      "name": "resaleHDBpx.ipynb",
      "provenance": [],
      "collapsed_sections": [],
      "authorship_tag": "ABX9TyPk+vqVD7XMUIiyDXT6E8Co",
      "include_colab_link": true
    },
    "kernelspec": {
      "name": "python3",
      "display_name": "Python 3"
    },
    "language_info": {
      "name": "python"
    }
  },
  "cells": [
    {
      "cell_type": "markdown",
      "metadata": {
        "id": "view-in-github",
        "colab_type": "text"
      },
      "source": [
        "<a href=\"https://colab.research.google.com/github/stormyCobra1199/showcase/blob/main/resaleHDBpx.ipynb\" target=\"_parent\"><img src=\"https://colab.research.google.com/assets/colab-badge.svg\" alt=\"Open In Colab\"/></a>"
      ]
    },
    {
      "cell_type": "code",
      "execution_count": 12,
      "metadata": {
        "colab": {
          "base_uri": "https://localhost:8080/"
        },
        "id": "2ASK4ZgEbtEi",
        "outputId": "80e83a0c-0777-4bb6-c11e-0313d6db100f"
      },
      "outputs": [
        {
          "output_type": "stream",
          "name": "stdout",
          "text": [
            "\n",
            " {'first_name': 'HDBResaleTx', 'can_join_groups': True, 'supports_inline_queries': False, 'id': 5218309496, 'is_bot': True, 'username': 'HDBResaleTx_bot', 'can_read_all_group_messages': False} \n",
            "\n"
          ]
        },
        {
          "output_type": "stream",
          "name": "stderr",
          "text": [
            "2022-04-14 14:57:42,784 - telegram.ext.updater - ERROR - Error while getting Updates: Conflict: terminated by other getUpdates request; make sure that only one bot instance is running\n",
            "2022-04-14 14:57:42,785 - telegram.ext.dispatcher - ERROR - No error handlers are registered, logging exception.\n",
            "Traceback (most recent call last):\n",
            "  File \"/usr/local/lib/python3.7/dist-packages/telegram/ext/updater.py\", line 646, in _network_loop_retry\n",
            "    if not action_cb():\n",
            "  File \"/usr/local/lib/python3.7/dist-packages/telegram/ext/updater.py\", line 601, in polling_action_cb\n",
            "    allowed_updates=allowed_updates,\n",
            "  File \"/usr/local/lib/python3.7/dist-packages/telegram/ext/extbot.py\", line 230, in get_updates\n",
            "    api_kwargs=api_kwargs,\n",
            "  File \"/usr/local/lib/python3.7/dist-packages/telegram/bot.py\", line 130, in decorator\n",
            "    result = func(*args, **kwargs)\n",
            "  File \"/usr/local/lib/python3.7/dist-packages/telegram/bot.py\", line 3058, in get_updates\n",
            "    api_kwargs=api_kwargs,\n",
            "  File \"/usr/local/lib/python3.7/dist-packages/telegram/bot.py\", line 296, in _post\n",
            "    f'{self.base_url}/{endpoint}', data=data, timeout=effective_timeout\n",
            "  File \"/usr/local/lib/python3.7/dist-packages/telegram/utils/request.py\", line 366, in post\n",
            "    **urlopen_kwargs,\n",
            "  File \"/usr/local/lib/python3.7/dist-packages/telegram/utils/request.py\", line 283, in _request_wrapper\n",
            "    raise Conflict(message)\n",
            "telegram.error.Conflict: Conflict: terminated by other getUpdates request; make sure that only one bot instance is running\n",
            "2022-04-14 14:57:42,986 - apscheduler.scheduler - INFO - Scheduler started\n"
          ]
        },
        {
          "output_type": "execute_result",
          "data": {
            "text/plain": [
              "<queue.Queue at 0x7f5cf10f6c90>"
            ]
          },
          "metadata": {},
          "execution_count": 12
        },
        {
          "output_type": "stream",
          "name": "stderr",
          "text": [
            "2022-04-14 14:57:43,519 - telegram.ext.updater - ERROR - Error while getting Updates: Conflict: terminated by other getUpdates request; make sure that only one bot instance is running\n",
            "2022-04-14 14:57:43,521 - telegram.ext.dispatcher - ERROR - No error handlers are registered, logging exception.\n",
            "Traceback (most recent call last):\n",
            "  File \"/usr/local/lib/python3.7/dist-packages/telegram/ext/updater.py\", line 646, in _network_loop_retry\n",
            "    if not action_cb():\n",
            "  File \"/usr/local/lib/python3.7/dist-packages/telegram/ext/updater.py\", line 601, in polling_action_cb\n",
            "    allowed_updates=allowed_updates,\n",
            "  File \"/usr/local/lib/python3.7/dist-packages/telegram/ext/extbot.py\", line 230, in get_updates\n",
            "    api_kwargs=api_kwargs,\n",
            "  File \"/usr/local/lib/python3.7/dist-packages/telegram/bot.py\", line 130, in decorator\n",
            "    result = func(*args, **kwargs)\n",
            "  File \"/usr/local/lib/python3.7/dist-packages/telegram/bot.py\", line 3058, in get_updates\n",
            "    api_kwargs=api_kwargs,\n",
            "  File \"/usr/local/lib/python3.7/dist-packages/telegram/bot.py\", line 296, in _post\n",
            "    f'{self.base_url}/{endpoint}', data=data, timeout=effective_timeout\n",
            "  File \"/usr/local/lib/python3.7/dist-packages/telegram/utils/request.py\", line 366, in post\n",
            "    **urlopen_kwargs,\n",
            "  File \"/usr/local/lib/python3.7/dist-packages/telegram/utils/request.py\", line 283, in _request_wrapper\n",
            "    raise Conflict(message)\n",
            "telegram.error.Conflict: Conflict: terminated by other getUpdates request; make sure that only one bot instance is running\n"
          ]
        }
      ],
      "source": [
        "#!pip install python-telegram-bot\n",
        "\n",
        "import pandas as pd\n",
        "import requests\n",
        "import telegram\n",
        "\n",
        "bot = telegram.Bot(token='5218309496:AAHV2gIFLgNSK37D98kvFScBiLMxorHotJU')\n",
        "print(\"\\n\",bot.get_me(),\"\\n\")\n",
        "\n",
        "bot.send_message(text='Test run!', chat_id=1349303768)\n",
        "\n",
        "###\n",
        "from telegram.ext import Updater\n",
        "updater = Updater(token='5218309496:AAHV2gIFLgNSK37D98kvFScBiLMxorHotJU', use_context=True)\n",
        "dispatcher = updater.dispatcher\n",
        "\n",
        "###\n",
        "import logging\n",
        "logging.basicConfig(format='%(asctime)s - %(name)s - %(levelname)s - %(message)s',\n",
        "                     level=logging.INFO)\n",
        "\n",
        "###\n",
        "from telegram import Update\n",
        "from telegram.ext import CallbackContext\n",
        "\n",
        "def start(update: Update, context: CallbackContext):\n",
        "    context.bot.send_message(chat_id=update.effective_chat.id, text=\"HDBRT Bot - Get latest HDB Resale Transactions.\\nType / for commands.\")\n",
        "\n",
        "def last10(update: Update, context: CallbackContext):\n",
        "    q=' '.join(context.args)\n",
        "    url = \"https://data.gov.sg/api/action/datastore_search?resource_id=f1765b54-a209-4718-8d38-a39237f502b3&limit=10&q=\"+q\n",
        "    response=requests.get(url)\n",
        "    dataset=response.json()\n",
        "    df = pd.json_normalize(dataset['result'], \"records\")\n",
        "    context.bot.send_message(chat_id=update.effective_chat.id, text=str(df))\n",
        "\n",
        "from telegram.ext import CommandHandler\n",
        "\n",
        "start_handler = CommandHandler('start', start)\n",
        "dispatcher.add_handler(start_handler)\n",
        "\n",
        "last10_handler = CommandHandler('last10', last10)\n",
        "dispatcher.add_handler(last10_handler)\n",
        "\n",
        "#####\n",
        "updater.start_polling()\n",
        "\n",
        "\n",
        "\n",
        "\n",
        "\n",
        "\n"
      ]
    },
    {
      "cell_type": "code",
      "source": [
        ""
      ],
      "metadata": {
        "id": "-VcTXBEaCt6c"
      },
      "execution_count": null,
      "outputs": []
    }
  ]
}