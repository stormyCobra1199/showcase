{
  "nbformat": 4,
  "nbformat_minor": 0,
  "metadata": {
    "colab": {
      "name": "resaleHDBpx.ipynb",
      "provenance": [],
      "collapsed_sections": [],
      "authorship_tag": "ABX9TyMeFPDHHL0l6klT3P6pu5af",
      "include_colab_link": true
    },
    "kernelspec": {
      "name": "python3",
      "display_name": "Python 3"
    },
    "language_info": {
      "name": "python"
    }
  },
  "cells": [
    {
      "cell_type": "markdown",
      "metadata": {
        "id": "view-in-github",
        "colab_type": "text"
      },
      "source": [
        "<a href=\"https://colab.research.google.com/github/stormyCobra1199/showcase/blob/main/resaleHDBpx.ipynb\" target=\"_parent\"><img src=\"https://colab.research.google.com/assets/colab-badge.svg\" alt=\"Open In Colab\"/></a>"
      ]
    },
    {
      "cell_type": "code",
      "execution_count": 1,
      "metadata": {
        "colab": {
          "base_uri": "https://localhost:8080/"
        },
        "id": "2ASK4ZgEbtEi",
        "outputId": "b008e4e5-f188-4a91-b49d-102ddbe6e04e"
      },
      "outputs": [
        {
          "output_type": "stream",
          "name": "stdout",
          "text": [
            "Requirement already satisfied: python-telegram-bot in /usr/local/lib/python3.7/dist-packages (13.11)\n",
            "Requirement already satisfied: APScheduler==3.6.3 in /usr/local/lib/python3.7/dist-packages (from python-telegram-bot) (3.6.3)\n",
            "Requirement already satisfied: pytz>=2018.6 in /usr/local/lib/python3.7/dist-packages (from python-telegram-bot) (2018.9)\n",
            "Requirement already satisfied: tornado>=6.1 in /usr/local/lib/python3.7/dist-packages (from python-telegram-bot) (6.1)\n",
            "Requirement already satisfied: cachetools==4.2.2 in /usr/local/lib/python3.7/dist-packages (from python-telegram-bot) (4.2.2)\n",
            "Requirement already satisfied: certifi in /usr/local/lib/python3.7/dist-packages (from python-telegram-bot) (2021.10.8)\n",
            "Requirement already satisfied: six>=1.4.0 in /usr/local/lib/python3.7/dist-packages (from APScheduler==3.6.3->python-telegram-bot) (1.15.0)\n",
            "Requirement already satisfied: setuptools>=0.7 in /usr/local/lib/python3.7/dist-packages (from APScheduler==3.6.3->python-telegram-bot) (57.4.0)\n",
            "Requirement already satisfied: tzlocal>=1.2 in /usr/local/lib/python3.7/dist-packages (from APScheduler==3.6.3->python-telegram-bot) (1.5.1)\n",
            "\n",
            " {'is_bot': True, 'can_join_groups': True, 'id': 5218309496, 'first_name': 'HDBResaleTx', 'username': 'HDBResaleTx_bot', 'can_read_all_group_messages': False, 'supports_inline_queries': False} \n",
            "\n"
          ]
        },
        {
          "output_type": "stream",
          "name": "stderr",
          "text": [
            "2022-04-14 15:26:35,431 - apscheduler.scheduler - INFO - Scheduler started\n"
          ]
        },
        {
          "output_type": "execute_result",
          "data": {
            "text/plain": [
              "<queue.Queue at 0x7f9727164c50>"
            ]
          },
          "metadata": {},
          "execution_count": 1
        }
      ],
      "source": [
        "!pip install python-telegram-bot\n",
        "\n",
        "import pandas as pd\n",
        "import requests\n",
        "import telegram\n",
        "\n",
        "bot = telegram.Bot(token='5218309496:AAHV2gIFLgNSK37D98kvFScBiLMxorHotJU')\n",
        "print(\"\\n\",bot.get_me(),\"\\n\")\n",
        "\n",
        "bot.send_message(text='Test run!', chat_id=1349303768)\n",
        "\n",
        "###\n",
        "from telegram.ext import Updater\n",
        "updater = Updater(token='5218309496:AAHV2gIFLgNSK37D98kvFScBiLMxorHotJU', use_context=True)\n",
        "dispatcher = updater.dispatcher\n",
        "\n",
        "###\n",
        "import logging\n",
        "logging.basicConfig(format='%(asctime)s - %(name)s - %(levelname)s - %(message)s',\n",
        "                     level=logging.INFO)\n",
        "\n",
        "###\n",
        "from telegram import Update\n",
        "from telegram.ext import CallbackContext\n",
        "\n",
        "def start(update: Update, context: CallbackContext):\n",
        "    context.bot.send_message(chat_id=update.effective_chat.id, text=\"HDBRT Bot - Get latest HDB Resale Transactions.\\nType / for commands.\")\n",
        "\n",
        "def last10(update: Update, context: CallbackContext):\n",
        "    q=' '.join(context.args)\n",
        "    url = \"https://data.gov.sg/api/action/datastore_search?resource_id=f1765b54-a209-4718-8d38-a39237f502b3&limit=10&q=\"+q\n",
        "    response=requests.get(url)\n",
        "    dataset=response.json()\n",
        "    df = pd.json_normalize(dataset['result'], \"records\")\n",
        "    context.bot.send_message(chat_id=update.effective_chat.id, text=str(df))\n",
        "\n",
        "def last20(update: Update, context: CallbackContext):\n",
        "    q=' '.join(context.args)\n",
        "    url = \"https://data.gov.sg/api/action/datastore_search?resource_id=f1765b54-a209-4718-8d38-a39237f502b3&limit=20&q=\"+q\n",
        "    response=requests.get(url)\n",
        "    dataset=response.json()\n",
        "    df = pd.json_normalize(dataset['result'], \"records\")\n",
        "    context.bot.send_message(chat_id=update.effective_chat.id, text=str(df))\n",
        "\n",
        "def last30(update: Update, context: CallbackContext):\n",
        "    q=' '.join(context.args)\n",
        "    url = \"https://data.gov.sg/api/action/datastore_search?resource_id=f1765b54-a209-4718-8d38-a39237f502b3&limit=30&q=\"+q\n",
        "    response=requests.get(url)\n",
        "    dataset=response.json()\n",
        "    df = pd.json_normalize(dataset['result'], \"records\")\n",
        "    context.bot.send_message(chat_id=update.effective_chat.id, text=str(df))\n",
        "    \n",
        "from telegram.ext import CommandHandler\n",
        "\n",
        "start_handler = CommandHandler('start', start)\n",
        "dispatcher.add_handler(start_handler)\n",
        "\n",
        "last10_handler = CommandHandler('last10', last10)\n",
        "dispatcher.add_handler(last10_handler)\n",
        "\n",
        "last20_handler = CommandHandler('last20', last20)\n",
        "dispatcher.add_handler(last20_handler)\n",
        "\n",
        "last30_handler = CommandHandler('last30', last30)\n",
        "dispatcher.add_handler(last30_handler)\n",
        "\n",
        "\n",
        "#####\n",
        "updater.start_polling()\n",
        "\n",
        "\n",
        "\n",
        "\n",
        "\n",
        "\n"
      ]
    },
    {
      "cell_type": "code",
      "source": [
        ""
      ],
      "metadata": {
        "id": "-VcTXBEaCt6c"
      },
      "execution_count": 1,
      "outputs": []
    }
  ]
}