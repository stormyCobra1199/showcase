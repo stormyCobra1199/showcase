{
  "cells": [
    {
      "cell_type": "markdown",
      "metadata": {
        "id": "view-in-github",
        "colab_type": "text"
      },
      "source": [
        "<a href=\"https://colab.research.google.com/github/stormyCobra1199/showcase/blob/main/resaleHDBpx.ipynb\" target=\"_parent\"><img src=\"https://colab.research.google.com/assets/colab-badge.svg\" alt=\"Open In Colab\"/></a>"
      ]
    },
    {
      "cell_type": "markdown",
      "metadata": {
        "id": "-hdEP8b4xKAr"
      },
      "source": [
        "HDB Resale Transaction bot - by M. W. Ho (c) 2022\n",
        "\n",
        "\n"
      ]
    },
    {
      "cell_type": "code",
      "execution_count": null,
      "metadata": {
        "id": "2ASK4ZgEbtEi",
        "colab": {
          "base_uri": "https://localhost:8080/"
        },
        "outputId": "49d27578-a133-48fa-b69a-f849fc728988"
      },
      "outputs": [
        {
          "output_type": "stream",
          "name": "stdout",
          "text": [
            "Requirement already satisfied: python-telegram-bot in /usr/local/lib/python3.7/dist-packages (13.11)\n",
            "Requirement already satisfied: pytz>=2018.6 in /usr/local/lib/python3.7/dist-packages (from python-telegram-bot) (2022.1)\n",
            "Requirement already satisfied: APScheduler==3.6.3 in /usr/local/lib/python3.7/dist-packages (from python-telegram-bot) (3.6.3)\n",
            "Requirement already satisfied: tornado>=6.1 in /usr/local/lib/python3.7/dist-packages (from python-telegram-bot) (6.1)\n",
            "Requirement already satisfied: certifi in /usr/local/lib/python3.7/dist-packages (from python-telegram-bot) (2021.10.8)\n",
            "Requirement already satisfied: cachetools==4.2.2 in /usr/local/lib/python3.7/dist-packages (from python-telegram-bot) (4.2.2)\n",
            "Requirement already satisfied: tzlocal>=1.2 in /usr/local/lib/python3.7/dist-packages (from APScheduler==3.6.3->python-telegram-bot) (1.5.1)\n",
            "Requirement already satisfied: setuptools>=0.7 in /usr/local/lib/python3.7/dist-packages (from APScheduler==3.6.3->python-telegram-bot) (57.4.0)\n",
            "Requirement already satisfied: six>=1.4.0 in /usr/local/lib/python3.7/dist-packages (from APScheduler==3.6.3->python-telegram-bot) (1.15.0)\n",
            "Requirement already satisfied: tabulate in /usr/local/lib/python3.7/dist-packages (0.8.9)\n"
          ]
        }
      ],
      "source": [
        "### HDB Resale Transaction bot - by M. W. Ho (c) 2022\n",
        "\n",
        "!pip install python-telegram-bot\n",
        "!pip install tabulate\n",
        "\n",
        "import pandas as pd\n",
        "import datetime\n",
        "import logging\n",
        "import requests\n",
        "import re\n",
        "import os\n",
        "import telegram\n",
        "from telegram.ext import Updater, InlineQueryHandler, CommandHandler\n",
        "from tabulate import tabulate\n",
        "from pandas.plotting import table \n",
        "\n",
        "PORT = int(os.environ.get('PORT', 5000))\n",
        "#TOKEN = os.environ[\"TOKEN\"]\n",
        "from myconf import TOKEN\n",
        "\n",
        "PORT = int(os.environ.get('PORT', 5000))"
      ]
    },
    {
      "cell_type": "code",
      "execution_count": null,
      "metadata": {
        "id": "-VcTXBEaCt6c",
        "colab": {
          "base_uri": "https://localhost:8080/",
          "height": 1000
        },
        "outputId": "2277baff-2992-495a-e9de-91849a9d5fb8"
      },
      "outputs": [
        {
          "metadata": {
            "tags": null
          },
          "name": "stderr",
          "output_type": "stream",
          "text": [
            "Error while bootstrap set webhook: Bad webhook: webhook can be set up only on ports 80, 88, 443 or 8443\n",
            "Failed bootstrap phase after 0 retries (Bad webhook: webhook can be set up only on ports 80, 88, 443 or 8443)\n",
            "unhandled exception in Bot:5218309496:updater\n",
            "Traceback (most recent call last):\n",
            "  File \"/usr/local/lib/python3.7/dist-packages/telegram/ext/updater.py\", line 353, in _thread_wrapper\n",
            "    target(*args, **kwargs)\n",
            "  File \"/usr/local/lib/python3.7/dist-packages/telegram/ext/updater.py\", line 734, in _start_webhook\n",
            "    max_connections=max_connections,\n",
            "  File \"/usr/local/lib/python3.7/dist-packages/telegram/ext/updater.py\", line 810, in _bootstrap\n",
            "    bootstrap_interval,\n",
            "  File \"/usr/local/lib/python3.7/dist-packages/telegram/ext/updater.py\", line 660, in _network_loop_retry\n",
            "    onerr_cb(telegram_exc)\n",
            "  File \"/usr/local/lib/python3.7/dist-packages/telegram/ext/updater.py\", line 788, in bootstrap_onerr_cb\n",
            "    raise exc\n",
            "  File \"/usr/local/lib/python3.7/dist-packages/telegram/ext/updater.py\", line 646, in _network_loop_retry\n",
            "    if not action_cb():\n",
            "  File \"/usr/local/lib/python3.7/dist-packages/telegram/ext/updater.py\", line 776, in bootstrap_set_webhook\n",
            "    max_connections=max_connections,\n",
            "  File \"/usr/local/lib/python3.7/dist-packages/telegram/bot.py\", line 130, in decorator\n",
            "    result = func(*args, **kwargs)\n",
            "  File \"/usr/local/lib/python3.7/dist-packages/telegram/bot.py\", line 3158, in set_webhook\n",
            "    result = self._post('setWebhook', data, timeout=timeout, api_kwargs=api_kwargs)\n",
            "  File \"/usr/local/lib/python3.7/dist-packages/telegram/bot.py\", line 296, in _post\n",
            "    f'{self.base_url}/{endpoint}', data=data, timeout=effective_timeout\n",
            "  File \"/usr/local/lib/python3.7/dist-packages/telegram/utils/request.py\", line 366, in post\n",
            "    **urlopen_kwargs,\n",
            "  File \"/usr/local/lib/python3.7/dist-packages/telegram/utils/request.py\", line 279, in _request_wrapper\n",
            "    raise BadRequest(message)\n",
            "telegram.error.BadRequest: Bad webhook: webhook can be set up only on ports 80, 88, 443 or 8443\n",
            "Exception in thread Bot:5218309496:updater:\n",
            "Traceback (most recent call last):\n",
            "  File \"/usr/lib/python3.7/threading.py\", line 926, in _bootstrap_inner\n",
            "    self.run()\n",
            "  File \"/usr/lib/python3.7/threading.py\", line 870, in run\n",
            "    self._target(*self._args, **self._kwargs)\n",
            "  File \"/usr/local/lib/python3.7/dist-packages/telegram/ext/updater.py\", line 353, in _thread_wrapper\n",
            "    target(*args, **kwargs)\n",
            "  File \"/usr/local/lib/python3.7/dist-packages/telegram/ext/updater.py\", line 734, in _start_webhook\n",
            "    max_connections=max_connections,\n",
            "  File \"/usr/local/lib/python3.7/dist-packages/telegram/ext/updater.py\", line 810, in _bootstrap\n",
            "    bootstrap_interval,\n",
            "  File \"/usr/local/lib/python3.7/dist-packages/telegram/ext/updater.py\", line 660, in _network_loop_retry\n",
            "    onerr_cb(telegram_exc)\n",
            "  File \"/usr/local/lib/python3.7/dist-packages/telegram/ext/updater.py\", line 788, in bootstrap_onerr_cb\n",
            "    raise exc\n",
            "  File \"/usr/local/lib/python3.7/dist-packages/telegram/ext/updater.py\", line 646, in _network_loop_retry\n",
            "    if not action_cb():\n",
            "  File \"/usr/local/lib/python3.7/dist-packages/telegram/ext/updater.py\", line 776, in bootstrap_set_webhook\n",
            "    max_connections=max_connections,\n",
            "  File \"/usr/local/lib/python3.7/dist-packages/telegram/bot.py\", line 130, in decorator\n",
            "    result = func(*args, **kwargs)\n",
            "  File \"/usr/local/lib/python3.7/dist-packages/telegram/bot.py\", line 3158, in set_webhook\n",
            "    result = self._post('setWebhook', data, timeout=timeout, api_kwargs=api_kwargs)\n",
            "  File \"/usr/local/lib/python3.7/dist-packages/telegram/bot.py\", line 296, in _post\n",
            "    f'{self.base_url}/{endpoint}', data=data, timeout=effective_timeout\n",
            "  File \"/usr/local/lib/python3.7/dist-packages/telegram/utils/request.py\", line 366, in post\n",
            "    **urlopen_kwargs,\n",
            "  File \"/usr/local/lib/python3.7/dist-packages/telegram/utils/request.py\", line 279, in _request_wrapper\n",
            "    raise BadRequest(message)\n",
            "telegram.error.BadRequest: Bad webhook: webhook can be set up only on ports 80, 88, 443 or 8443\n",
            "\n",
            "stopping due to exception in another thread\n"
          ]
        },
        {
          "output_type": "error",
          "ename": "KeyboardInterrupt",
          "evalue": "ignored",
          "traceback": [
            "\u001b[0;31m---------------------------------------------------------------------------\u001b[0m",
            "\u001b[0;31mKeyboardInterrupt\u001b[0m                         Traceback (most recent call last)",
            "\u001b[0;32m<ipython-input-4-4356f947add0>\u001b[0m in \u001b[0;36m<module>\u001b[0;34m()\u001b[0m\n\u001b[1;32m     73\u001b[0m \u001b[0;34m\u001b[0m\u001b[0m\n\u001b[1;32m     74\u001b[0m \u001b[0;32mif\u001b[0m \u001b[0m__name__\u001b[0m \u001b[0;34m==\u001b[0m \u001b[0;34m'__main__'\u001b[0m\u001b[0;34m:\u001b[0m\u001b[0;34m\u001b[0m\u001b[0;34m\u001b[0m\u001b[0m\n\u001b[0;32m---> 75\u001b[0;31m     \u001b[0mmain\u001b[0m\u001b[0;34m(\u001b[0m\u001b[0;34m)\u001b[0m\u001b[0;34m\u001b[0m\u001b[0;34m\u001b[0m\u001b[0m\n\u001b[0m",
            "\u001b[0;32m<ipython-input-4-4356f947add0>\u001b[0m in \u001b[0;36mmain\u001b[0;34m()\u001b[0m\n\u001b[1;32m     66\u001b[0m     updater.start_webhook(listen=\"0.0.0.0\",\n\u001b[1;32m     67\u001b[0m                           \u001b[0mport\u001b[0m\u001b[0;34m=\u001b[0m\u001b[0mint\u001b[0m\u001b[0;34m(\u001b[0m\u001b[0mPORT\u001b[0m\u001b[0;34m)\u001b[0m\u001b[0;34m,\u001b[0m\u001b[0;34m\u001b[0m\u001b[0;34m\u001b[0m\u001b[0m\n\u001b[0;32m---> 68\u001b[0;31m                           url_path=TOKEN)\n\u001b[0m\u001b[1;32m     69\u001b[0m     \u001b[0mupdater\u001b[0m\u001b[0;34m.\u001b[0m\u001b[0mbot\u001b[0m\u001b[0;34m.\u001b[0m\u001b[0msetWebhook\u001b[0m\u001b[0;34m(\u001b[0m\u001b[0;34m'https://doggodemo.herokuapp.com/'\u001b[0m \u001b[0;34m+\u001b[0m \u001b[0mTOKEN\u001b[0m\u001b[0;34m)\u001b[0m\u001b[0;34m\u001b[0m\u001b[0;34m\u001b[0m\u001b[0m\n\u001b[1;32m     70\u001b[0m \u001b[0;34m\u001b[0m\u001b[0m\n",
            "\u001b[0;32m/usr/local/lib/python3.7/dist-packages/telegram/ext/updater.py\u001b[0m in \u001b[0;36mstart_webhook\u001b[0;34m(self, listen, port, url_path, cert, key, clean, bootstrap_retries, webhook_url, allowed_updates, force_event_loop, drop_pending_updates, ip_address, max_connections)\u001b[0m\n\u001b[1;32m    561\u001b[0m \u001b[0;34m\u001b[0m\u001b[0m\n\u001b[1;32m    562\u001b[0m                 \u001b[0mself\u001b[0m\u001b[0;34m.\u001b[0m\u001b[0mlogger\u001b[0m\u001b[0;34m.\u001b[0m\u001b[0mdebug\u001b[0m\u001b[0;34m(\u001b[0m\u001b[0;34m'Waiting for Dispatcher and Webhook to start'\u001b[0m\u001b[0;34m)\u001b[0m\u001b[0;34m\u001b[0m\u001b[0;34m\u001b[0m\u001b[0m\n\u001b[0;32m--> 563\u001b[0;31m                 \u001b[0mwebhook_ready\u001b[0m\u001b[0;34m.\u001b[0m\u001b[0mwait\u001b[0m\u001b[0;34m(\u001b[0m\u001b[0;34m)\u001b[0m\u001b[0;34m\u001b[0m\u001b[0;34m\u001b[0m\u001b[0m\n\u001b[0m\u001b[1;32m    564\u001b[0m                 \u001b[0mdispatcher_ready\u001b[0m\u001b[0;34m.\u001b[0m\u001b[0mwait\u001b[0m\u001b[0;34m(\u001b[0m\u001b[0;34m)\u001b[0m\u001b[0;34m\u001b[0m\u001b[0;34m\u001b[0m\u001b[0m\n\u001b[1;32m    565\u001b[0m \u001b[0;34m\u001b[0m\u001b[0m\n",
            "\u001b[0;32m/usr/lib/python3.7/threading.py\u001b[0m in \u001b[0;36mwait\u001b[0;34m(self, timeout)\u001b[0m\n\u001b[1;32m    550\u001b[0m             \u001b[0msignaled\u001b[0m \u001b[0;34m=\u001b[0m \u001b[0mself\u001b[0m\u001b[0;34m.\u001b[0m\u001b[0m_flag\u001b[0m\u001b[0;34m\u001b[0m\u001b[0;34m\u001b[0m\u001b[0m\n\u001b[1;32m    551\u001b[0m             \u001b[0;32mif\u001b[0m \u001b[0;32mnot\u001b[0m \u001b[0msignaled\u001b[0m\u001b[0;34m:\u001b[0m\u001b[0;34m\u001b[0m\u001b[0;34m\u001b[0m\u001b[0m\n\u001b[0;32m--> 552\u001b[0;31m                 \u001b[0msignaled\u001b[0m \u001b[0;34m=\u001b[0m \u001b[0mself\u001b[0m\u001b[0;34m.\u001b[0m\u001b[0m_cond\u001b[0m\u001b[0;34m.\u001b[0m\u001b[0mwait\u001b[0m\u001b[0;34m(\u001b[0m\u001b[0mtimeout\u001b[0m\u001b[0;34m)\u001b[0m\u001b[0;34m\u001b[0m\u001b[0;34m\u001b[0m\u001b[0m\n\u001b[0m\u001b[1;32m    553\u001b[0m             \u001b[0;32mreturn\u001b[0m \u001b[0msignaled\u001b[0m\u001b[0;34m\u001b[0m\u001b[0;34m\u001b[0m\u001b[0m\n\u001b[1;32m    554\u001b[0m \u001b[0;34m\u001b[0m\u001b[0m\n",
            "\u001b[0;32m/usr/lib/python3.7/threading.py\u001b[0m in \u001b[0;36mwait\u001b[0;34m(self, timeout)\u001b[0m\n\u001b[1;32m    294\u001b[0m         \u001b[0;32mtry\u001b[0m\u001b[0;34m:\u001b[0m    \u001b[0;31m# restore state no matter what (e.g., KeyboardInterrupt)\u001b[0m\u001b[0;34m\u001b[0m\u001b[0;34m\u001b[0m\u001b[0m\n\u001b[1;32m    295\u001b[0m             \u001b[0;32mif\u001b[0m \u001b[0mtimeout\u001b[0m \u001b[0;32mis\u001b[0m \u001b[0;32mNone\u001b[0m\u001b[0;34m:\u001b[0m\u001b[0;34m\u001b[0m\u001b[0;34m\u001b[0m\u001b[0m\n\u001b[0;32m--> 296\u001b[0;31m                 \u001b[0mwaiter\u001b[0m\u001b[0;34m.\u001b[0m\u001b[0macquire\u001b[0m\u001b[0;34m(\u001b[0m\u001b[0;34m)\u001b[0m\u001b[0;34m\u001b[0m\u001b[0;34m\u001b[0m\u001b[0m\n\u001b[0m\u001b[1;32m    297\u001b[0m                 \u001b[0mgotit\u001b[0m \u001b[0;34m=\u001b[0m \u001b[0;32mTrue\u001b[0m\u001b[0;34m\u001b[0m\u001b[0;34m\u001b[0m\u001b[0m\n\u001b[1;32m    298\u001b[0m             \u001b[0;32melse\u001b[0m\u001b[0;34m:\u001b[0m\u001b[0;34m\u001b[0m\u001b[0;34m\u001b[0m\u001b[0m\n",
            "\u001b[0;31mKeyboardInterrupt\u001b[0m: "
          ]
        }
      ],
      "source": [
        "def get_url():\n",
        "    contents = requests.get('https://dog.ceo/api/breeds/image/random').json()\n",
        "    url = contents['message']\n",
        "    return url\n",
        "\n",
        "\n",
        "def get_image_url():\n",
        "    allowed_extension = ['jpg', 'jpeg', 'png']\n",
        "    file_extension = ''\n",
        "    while file_extension not in allowed_extension:\n",
        "        url = get_url()\n",
        "        file_extension = re.search(\"([^.]*)$\", url).group(1).lower()\n",
        "    return url\n",
        "\n",
        "\n",
        "def bop(update, context):\n",
        "    url = get_image_url()\n",
        "    chat_id = update.message.chat.id\n",
        "    context.bot.send_photo(chat_id=chat_id, photo=url)\n",
        "\n",
        "\n",
        "###\n",
        "def start(update, context):\n",
        "    outF = open(\"trackStart.txt\", \"a\")\n",
        "    outF.write(\"1 \")\n",
        "    outF.close()\n",
        "    context.bot.send_message(chat_id=update.effective_chat.id, text=\"HDBRT Bot - Get latest HDB Resale Transactions.\\nExamples: /hs 5 Bedok for 5Rm in Bedok or /hs French for all French Road.\")\n",
        "   \n",
        "def hs(update, context):\n",
        "    q=' '.join(context.args)\n",
        "    if q[0] in [\"2\",\"3\",\"4\",\"5\"]:\n",
        "        url = \"https://data.gov.sg/api/action/datastore_search?resource_id=f1765b54-a209-4718-8d38-a39237f502b3&fields=month,block,street_name,flat_type,flat_model,resale_price,floor_area_sqm,lease_commence_date,storey_range&sort=month%20desc&limit=20&filters={\\\"flat_type\\\":\\\"\"+q[0]+\" ROOM\"+\"\\\",\\\"town\\\":\\\"\"+q[2:].upper()+\"\\\"}\"\n",
        "        #context.bot.send_message(chat_id=update.effective_chat.id, text=url)\n",
        "    else:\n",
        "        url = \"https://data.gov.sg/api/action/datastore_search?resource_id=f1765b54-a209-4718-8d38-a39237f502b3&fields=month,block,street_name,flat_type,flat_model,resale_price,floor_area_sqm,lease_commence_date,storey_range&sort=month%20desc&limit=20&q=\"+q\n",
        "    response=requests.get(url)\n",
        "    dataset=response.json()\n",
        "    df = pd.json_normalize(dataset['result'], \"records\")  \n",
        "    df = df.sort_values(by='block').set_index('block').reindex(columns=['street_name','flat_type','flat_model','resale_price','floor_area_sqm','lease_commence_date','storey_range','month'])\n",
        "    df.rename(columns={'street_name': 'street', 'flat_type': 'type', 'resale_price': 'price', 'lease_commence_date': 'built', 'storey_range': 'floor', 'floor_area_sqm': 'sqm', 'flat_model': 'model', 'month': 'sold'}, inplace=True)\n",
        "    df.replace(['2 ROOM', '3 ROOM', '4 ROOM', '5 ROOM', 'New Generation', 'Standard', 'EXECUTIVE', 'Maisonette', 'Simplified', 'Improved'],['2','3','4','5','NG','Std','E','M','S','I'], inplace=True) \n",
        "    df['type']=df['type']+df['model']\n",
        "    df.drop('model', axis=1, inplace=True)\n",
        "    dft=tabulate(df, headers='keys', tablefmt='plain', numalign='left')\n",
        "    context.bot.send_message(chat_id=update.effective_chat.id, text=dft)\n",
        "    ct = datetime.datetime.now()\n",
        "    outF = open(str(ct), \"w\")\n",
        "    outF.write(dft)\n",
        "    outF.close()\n",
        "\n",
        "def errorhand(update, context):\n",
        "    context.bot.send_message(chat_id=update.effective_chat.id, text=\"Please enter a valid town or search term. Eg: /hs 5 Bedok for 5Rm in Bedok or /hs French for all French Road.\")\n",
        "\n",
        "def main():\n",
        "    updater = Updater(TOKEN, use_context=True)\n",
        "    dp = updater.dispatcher\n",
        "\n",
        "    dp.add_handler(CommandHandler('start', start))\n",
        "    dp.add_handler(CommandHandler('bop', bop))\n",
        "    dp.add_handler(CommandHandler('hs', hs))\n",
        "    dp.add_error_handler(errorhand)\n",
        "    \n",
        "    updater.start_webhook(listen=\"0.0.0.0\",\n",
        "                          port=int(PORT),\n",
        "                          url_path=TOKEN)\n",
        "    updater.bot.setWebhook('https://doggodemo.herokuapp.com/' + TOKEN)\n",
        "    updater.idle()\n",
        "\n",
        "if __name__ == '__main__':\n",
        "    main()\n"
      ]
    },
    {
      "cell_type": "markdown",
      "metadata": {
        "id": "O6ARRP96pCHi"
      },
      "source": [
        "### run in Console F12\n",
        "\n",
        "function KeepClicking(){\n",
        "console.log(\"Clicking\");\n",
        "document.querySelector(\"colab-connect-button\").click() }\n",
        "setInterval(KeepClicking,60000)"
      ]
    },
    {
      "cell_type": "markdown",
      "metadata": {
        "id": "0dLgvxhZoGnj"
      },
      "source": [
        "### for keeping alive\n",
        "\n",
        "import time\n",
        "t_end = time.time() + 200000 \n",
        "while time.time() < t_end:\n",
        "    time.sleep(360)\n",
        "    print(\"Stayin' alive...\")"
      ]
    },
    {
      "cell_type": "markdown",
      "metadata": {
        "id": "VYC0FKwKoHGs"
      },
      "source": [
        "### for testing API and response only\n",
        "\n",
        "### testing return image\n",
        "import matplotlib.pyplot as plt\n",
        "ax = plt.subplot(frame_on=False) # no visible frame\n",
        "ax.xaxis.set_visible(False)  # hide the x axis\n",
        "ax.yaxis.set_visible(False)  # hide the y axis\n",
        "table(ax, df)  # where df is your data frame\n",
        "plt.rcParams[\"figure.figsize\"] = (18, 1)\n",
        "plt.savefig('mytable.png')"
      ]
    }
  ],
  "metadata": {
    "colab": {
      "collapsed_sections": [],
      "name": "resaleHDBpx.ipynb",
      "provenance": [],
      "include_colab_link": true
    },
    "kernelspec": {
      "display_name": "Python 3 (ipykernel)",
      "language": "python",
      "name": "python3"
    },
    "language_info": {
      "codemirror_mode": {
        "name": "ipython",
        "version": 3
      },
      "file_extension": ".py",
      "mimetype": "text/x-python",
      "name": "python",
      "nbconvert_exporter": "python",
      "pygments_lexer": "ipython3",
      "version": "3.9.10"
    }
  },
  "nbformat": 4,
  "nbformat_minor": 0
}