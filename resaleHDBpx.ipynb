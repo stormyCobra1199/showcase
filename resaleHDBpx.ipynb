{
  "cells": [
    {
      "cell_type": "markdown",
      "metadata": {
        "id": "view-in-github",
        "colab_type": "text"
      },
      "source": [
        "<a href=\"https://colab.research.google.com/github/stormyCobra1199/showcase/blob/main/resaleHDBpx.ipynb\" target=\"_parent\"><img src=\"https://colab.research.google.com/assets/colab-badge.svg\" alt=\"Open In Colab\"/></a>"
      ]
    },
    {
      "cell_type": "markdown",
      "metadata": {
        "id": "-hdEP8b4xKAr"
      },
      "source": [
        "HDB Resale Transaction bot - by M. W. Ho (c) 2022\n"
      ]
    },
    {
      "cell_type": "code",
      "execution_count": 1,
      "metadata": {
        "id": "2ASK4ZgEbtEi",
        "colab": {
          "base_uri": "https://localhost:8080/"
        },
        "outputId": "ae6ed590-3f3f-4ef4-a8f8-c812f8162c2a"
      },
      "outputs": [
        {
          "output_type": "stream",
          "name": "stdout",
          "text": [
            "Requirement already satisfied: python-telegram-bot in /usr/local/lib/python3.7/dist-packages (13.11)\n",
            "Requirement already satisfied: cachetools==4.2.2 in /usr/local/lib/python3.7/dist-packages (from python-telegram-bot) (4.2.2)\n",
            "Requirement already satisfied: tornado>=6.1 in /usr/local/lib/python3.7/dist-packages (from python-telegram-bot) (6.1)\n",
            "Requirement already satisfied: certifi in /usr/local/lib/python3.7/dist-packages (from python-telegram-bot) (2021.10.8)\n",
            "Requirement already satisfied: pytz>=2018.6 in /usr/local/lib/python3.7/dist-packages (from python-telegram-bot) (2022.1)\n",
            "Requirement already satisfied: APScheduler==3.6.3 in /usr/local/lib/python3.7/dist-packages (from python-telegram-bot) (3.6.3)\n",
            "Requirement already satisfied: six>=1.4.0 in /usr/local/lib/python3.7/dist-packages (from APScheduler==3.6.3->python-telegram-bot) (1.15.0)\n",
            "Requirement already satisfied: tzlocal>=1.2 in /usr/local/lib/python3.7/dist-packages (from APScheduler==3.6.3->python-telegram-bot) (1.5.1)\n",
            "Requirement already satisfied: setuptools>=0.7 in /usr/local/lib/python3.7/dist-packages (from APScheduler==3.6.3->python-telegram-bot) (57.4.0)\n",
            "Requirement already satisfied: tabulate in /usr/local/lib/python3.7/dist-packages (0.8.9)\n",
            "\n",
            " {'id': 5218309496, 'first_name': 'HDBResaleTx', 'can_join_groups': True, 'is_bot': True, 'supports_inline_queries': False, 'can_read_all_group_messages': False, 'username': 'HDBResaleTx_bot'} \n",
            "\n"
          ]
        }
      ],
      "source": [
        "!pip install python-telegram-bot\n",
        "!pip install tabulate\n",
        "import pandas as pd\n",
        "import requests\n",
        "import telegram\n",
        "import datetime\n",
        "import os\n",
        "import logging\n",
        "\n",
        "from myconf import TOKEN\n",
        "\n",
        "from tabulate import tabulate\n",
        "from pandas.plotting import table \n",
        "\n",
        "from flask import Flask, request\n",
        "\n",
        "from telegram import Bot, Update\n",
        "from telegram.ext import Dispatcher, Filters, MessageHandler, CommandHandler, CallbackContext\n",
        "\n",
        "from telegram.ext import Updater\n",
        "\n",
        "updater = Updater(token=TOKEN, use_context=True)\n",
        "dispatcher = updater.dispatcher\n",
        "\n",
        "PORT = int(os.environ.get('PORT', 5000))\n",
        "logging.basicConfig(format='%(asctime)s - %(name)s - %(levelname)s - %(message)s', level=logging.INFO)\n",
        "\n",
        "bot = telegram.Bot(token=TOKEN)\n",
        "print(\"\\n\",bot.get_me(),\"\\n\")"
      ]
    },
    {
      "cell_type": "code",
      "execution_count": 2,
      "metadata": {
        "id": "-VcTXBEaCt6c"
      },
      "outputs": [],
      "source": [
        "###\n",
        "def start(update: Update, context: CallbackContext):\n",
        "    outF = open(\"trackStart.txt\", \"a\")\n",
        "    outF.write(\"1 \")\n",
        "    outF.close()\n",
        "    context.bot.send_message(chat_id=update.effective_chat.id, text=\"HDBRT Bot - Get latest HDB Resale Transactions.\\nExamples: /hs 5 Bedok for 5Rm in Bedok or /hs French for all French Road.\")\n",
        "   \n",
        "def hs(update: Update, context: CallbackContext):\n",
        "    q=' '.join(context.args)\n",
        "    if q[0] in [\"2\",\"3\",\"4\",\"5\"]:\n",
        "        url = \"https://data.gov.sg/api/action/datastore_search?resource_id=f1765b54-a209-4718-8d38-a39237f502b3&fields=month,block,street_name,flat_type,flat_model,resale_price,floor_area_sqm,lease_commence_date,storey_range&sort=month%20desc&limit=20&filters={\\\"flat_type\\\":\\\"\"+q[0]+\" ROOM\"+\"\\\",\\\"town\\\":\\\"\"+q[2:].upper()+\"\\\"}\"\n",
        "        #context.bot.send_message(chat_id=update.effective_chat.id, text=url)\n",
        "    else:\n",
        "        url = \"https://data.gov.sg/api/action/datastore_search?resource_id=f1765b54-a209-4718-8d38-a39237f502b3&fields=month,block,street_name,flat_type,flat_model,resale_price,floor_area_sqm,lease_commence_date,storey_range&sort=month%20desc&limit=20&q=\"+q\n",
        "    response=requests.get(url)\n",
        "    dataset=response.json()\n",
        "    df = pd.json_normalize(dataset['result'], \"records\")  \n",
        "    df = df.sort_values(by='block').set_index('block').reindex(columns=['street_name','flat_type','flat_model','resale_price','floor_area_sqm','lease_commence_date','storey_range','month'])\n",
        "    df.rename(columns={'street_name': 'street', 'flat_type': 'type', 'resale_price': 'price', 'lease_commence_date': 'built', 'storey_range': 'floor', 'floor_area_sqm': 'sqm', 'flat_model': 'model', 'month': 'sold'}, inplace=True)\n",
        "    df.replace(['2 ROOM', '3 ROOM', '4 ROOM', '5 ROOM', 'New Generation', 'Standard', 'EXECUTIVE', 'Maisonette', 'Simplified', 'Improved'],['2','3','4','5','NG','Std','E','M','S','I'], inplace=True) \n",
        "    df['type']=df['type']+df['model']\n",
        "    df.drop('model', axis=1, inplace=True)\n",
        "    dft=tabulate(df, headers='keys', tablefmt='plain', numalign='left')\n",
        "    context.bot.send_message(chat_id=update.effective_chat.id, text=dft)\n",
        "    ct = datetime.datetime.now()\n",
        "    outF = open(str(ct), \"w\")\n",
        "    outF.write(dft)\n",
        "    outF.close()\n",
        "\n",
        "def errorhand(update: Update, context: CallbackContext):\n",
        "    context.bot.send_message(chat_id=update.effective_chat.id, text=\"Please enter a valid town or search term. Eg: /hs 5 Bedok for 5Rm in Bedok or /hs French for all French Road.\")\n",
        "   "
      ]
    },
    {
      "cell_type": "code",
      "execution_count": null,
      "metadata": {
        "id": "i1uwcY6_dYmI"
      },
      "outputs": [],
      "source": [
        "###\n",
        "app = Flask(__name__)\n",
        "@app.route(\"/\")\n",
        "def main():\n",
        "  start_handler = CommandHandler('start', start)\n",
        "  dispatcher.add_handler(start_handler)\n",
        "\n",
        "  hs_handler = CommandHandler('hs', hs)\n",
        "  dispatcher.add_handler(hs_handler)\n",
        "  dispatcher.add_error_handler(errorhand)\n",
        "\n",
        "  bot.send_message(text='Bot initiated.', chat_id=1349303768)\n",
        "\n",
        "  #####\n",
        "  #updater.start_polling()\n",
        "  updater.start_webhook(listen=\"0.0.0.0\",\n",
        "                          port=int(PORT),\n",
        "                          url_path=TOKEN)\n",
        "  updater.bot.setWebhook('https://rocky-lowlands-28256.herokuapp.com/' + TOKEN)\n",
        "\n",
        "\n",
        "if __name__ == \"__main__\":\n",
        "    main()\n",
        "    #app.run(debug=True, host=\"0.0.0.0\", port=int(os.environ.get(\"PORT\", 8080)))"
      ]
    },
    {
      "cell_type": "markdown",
      "metadata": {
        "id": "O6ARRP96pCHi"
      },
      "source": [
        "### run in Console F12\n",
        "\n",
        "function KeepClicking(){\n",
        "console.log(\"Clicking\");\n",
        "document.querySelector(\"colab-connect-button\").click() }\n",
        "setInterval(KeepClicking,60000)"
      ]
    },
    {
      "cell_type": "markdown",
      "metadata": {
        "id": "0dLgvxhZoGnj"
      },
      "source": [
        "### for keeping alive\n",
        "\n",
        "import time\n",
        "t_end = time.time() + 200000 \n",
        "while time.time() < t_end:\n",
        "    time.sleep(360)\n",
        "    print(\"Stayin' alive...\")"
      ]
    },
    {
      "cell_type": "markdown",
      "metadata": {
        "id": "VYC0FKwKoHGs"
      },
      "source": [
        "### for testing API and response only\n",
        "\n",
        "### testing return image\n",
        "import matplotlib.pyplot as plt\n",
        "ax = plt.subplot(frame_on=False) # no visible frame\n",
        "ax.xaxis.set_visible(False)  # hide the x axis\n",
        "ax.yaxis.set_visible(False)  # hide the y axis\n",
        "table(ax, df)  # where df is your data frame\n",
        "plt.rcParams[\"figure.figsize\"] = (18, 1)\n",
        "plt.savefig('mytable.png')"
      ]
    }
  ],
  "metadata": {
    "colab": {
      "collapsed_sections": [],
      "name": "resaleHDBpx.ipynb",
      "provenance": [],
      "include_colab_link": true
    },
    "kernelspec": {
      "display_name": "Python 3 (ipykernel)",
      "language": "python",
      "name": "python3"
    },
    "language_info": {
      "codemirror_mode": {
        "name": "ipython",
        "version": 3
      },
      "file_extension": ".py",
      "mimetype": "text/x-python",
      "name": "python",
      "nbconvert_exporter": "python",
      "pygments_lexer": "ipython3",
      "version": "3.9.10"
    }
  },
  "nbformat": 4,
  "nbformat_minor": 0
}