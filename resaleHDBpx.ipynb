{
 "cells": [
  {
   "cell_type": "markdown",
   "metadata": {},
   "source": [
    "HDB Resale Transaction bot - by M. W. Ho (c) 2022\n"
   ]
  },
  {
   "cell_type": "code",
   "execution_count": 9,
   "metadata": {
    "colab": {
     "base_uri": "https://localhost:8080/"
    },
    "execution": {
     "iopub.execute_input": "2022-04-16T06:30:51.877486Z",
     "iopub.status.busy": "2022-04-16T06:30:51.876869Z",
     "iopub.status.idle": "2022-04-16T06:30:55.458287Z",
     "shell.execute_reply": "2022-04-16T06:30:55.456328Z",
     "shell.execute_reply.started": "2022-04-16T06:30:51.877459Z"
    },
    "id": "2ASK4ZgEbtEi",
    "outputId": "027cf55c-f88e-41dd-f631-ff4763c8b640"
   },
   "outputs": [
    {
     "name": "stdout",
     "output_type": "stream",
     "text": [
      "\u001b[33mWARNING: The directory '/home/jovyan/.cache/pip' or its parent directory is not owned or is not writable by the current user. The cache has been disabled. Check the permissions and owner of that directory. If executing pip with sudo, you should use sudo's -H flag.\u001b[0m\u001b[33m\n",
      "\u001b[0mRequirement already satisfied: python-telegram-bot in /opt/conda/lib/python3.9/site-packages (13.11)\n",
      "Requirement already satisfied: certifi in /opt/conda/lib/python3.9/site-packages (from python-telegram-bot) (2021.10.8)\n",
      "Requirement already satisfied: tornado>=6.1 in /opt/conda/lib/python3.9/site-packages (from python-telegram-bot) (6.1)\n",
      "Requirement already satisfied: cachetools==4.2.2 in /opt/conda/lib/python3.9/site-packages (from python-telegram-bot) (4.2.2)\n",
      "Requirement already satisfied: pytz>=2018.6 in /opt/conda/lib/python3.9/site-packages (from python-telegram-bot) (2021.3)\n",
      "Requirement already satisfied: APScheduler==3.6.3 in /opt/conda/lib/python3.9/site-packages (from python-telegram-bot) (3.6.3)\n",
      "Requirement already satisfied: setuptools>=0.7 in /opt/conda/lib/python3.9/site-packages (from APScheduler==3.6.3->python-telegram-bot) (60.9.3)\n",
      "Requirement already satisfied: tzlocal>=1.2 in /opt/conda/lib/python3.9/site-packages (from APScheduler==3.6.3->python-telegram-bot) (4.1)\n",
      "Requirement already satisfied: six>=1.4.0 in /opt/conda/lib/python3.9/site-packages (from APScheduler==3.6.3->python-telegram-bot) (1.16.0)\n",
      "Requirement already satisfied: pytz-deprecation-shim in /opt/conda/lib/python3.9/site-packages (from tzlocal>=1.2->APScheduler==3.6.3->python-telegram-bot) (0.1.0.post0)\n",
      "Requirement already satisfied: tzdata in /opt/conda/lib/python3.9/site-packages (from pytz-deprecation-shim->tzlocal>=1.2->APScheduler==3.6.3->python-telegram-bot) (2022.1)\n",
      "\u001b[33mWARNING: Running pip as the 'root' user can result in broken permissions and conflicting behaviour with the system package manager. It is recommended to use a virtual environment instead: https://pip.pypa.io/warnings/venv\u001b[0m\u001b[33m\n",
      "\u001b[0m"
     ]
    },
    {
     "ename": "ModuleNotFoundError",
     "evalue": "No module named 'tabulate'",
     "output_type": "error",
     "traceback": [
      "\u001b[0;31m---------------------------------------------------------------------------\u001b[0m",
      "\u001b[0;31mModuleNotFoundError\u001b[0m                       Traceback (most recent call last)",
      "Input \u001b[0;32mIn [9]\u001b[0m, in \u001b[0;36m<cell line: 8>\u001b[0;34m()\u001b[0m\n\u001b[1;32m      5\u001b[0m \u001b[38;5;28;01mimport\u001b[39;00m \u001b[38;5;21;01mtelegram\u001b[39;00m\n\u001b[1;32m      6\u001b[0m \u001b[38;5;28;01mimport\u001b[39;00m \u001b[38;5;21;01mmatplotlib\u001b[39;00m\u001b[38;5;21;01m.\u001b[39;00m\u001b[38;5;21;01mpyplot\u001b[39;00m \u001b[38;5;28;01mas\u001b[39;00m \u001b[38;5;21;01mplt\u001b[39;00m\n\u001b[0;32m----> 8\u001b[0m \u001b[38;5;28;01mfrom\u001b[39;00m \u001b[38;5;21;01mtabulate\u001b[39;00m \u001b[38;5;28;01mimport\u001b[39;00m tabulate\n\u001b[1;32m      9\u001b[0m \u001b[38;5;28;01mfrom\u001b[39;00m \u001b[38;5;21;01mpandas\u001b[39;00m\u001b[38;5;21;01m.\u001b[39;00m\u001b[38;5;21;01mplotting\u001b[39;00m \u001b[38;5;28;01mimport\u001b[39;00m table \n\u001b[1;32m     11\u001b[0m bot \u001b[38;5;241m=\u001b[39m telegram\u001b[38;5;241m.\u001b[39mBot(token\u001b[38;5;241m=\u001b[39m\u001b[38;5;124m'\u001b[39m\u001b[38;5;124m5218309496:AAHV2gIFLgNSK37D98kvFScBiLMxorHotJU\u001b[39m\u001b[38;5;124m'\u001b[39m)\n",
      "\u001b[0;31mModuleNotFoundError\u001b[0m: No module named 'tabulate'"
     ]
    }
   ],
   "source": [
    "!pip install python-telegram-bot\n",
    "\n",
    "import pandas as pd\n",
    "import requests\n",
    "import telegram\n",
    "\n",
    "from tabulate import tabulate\n",
    "from pandas.plotting import table \n",
    "\n",
    "bot = telegram.Bot(token='5218309496:AAHV2gIFLgNSK37D98kvFScBiLMxorHotJU')\n",
    "print(\"\\n\",bot.get_me(),\"\\n\")\n",
    "\n",
    "from telegram.ext import Updater\n",
    "updater = Updater(token='5218309496:AAHV2gIFLgNSK37D98kvFScBiLMxorHotJU', use_context=True)\n",
    "dispatcher = updater.dispatcher\n",
    "\n",
    "import logging\n",
    "logging.basicConfig(format='%(asctime)s - %(name)s - %(levelname)s - %(message)s',\n",
    "                     level=logging.INFO)"
   ]
  },
  {
   "cell_type": "code",
   "execution_count": 7,
   "metadata": {
    "execution": {
     "iopub.execute_input": "2022-04-16T06:30:28.000865Z",
     "iopub.status.busy": "2022-04-16T06:30:28.000110Z",
     "iopub.status.idle": "2022-04-16T06:30:28.011447Z",
     "shell.execute_reply": "2022-04-16T06:30:28.011006Z",
     "shell.execute_reply.started": "2022-04-16T06:30:28.000833Z"
    },
    "id": "-VcTXBEaCt6c"
   },
   "outputs": [],
   "source": [
    "###\n",
    "from telegram import Update\n",
    "from telegram.ext import CallbackContext\n",
    "\n",
    "def start(update: Update, context: CallbackContext):\n",
    "    context.bot.send_message(chat_id=update.effective_chat.id, text=\"HDBRT Bot - Get latest HDB Resale Transactions.\\nType / for commands.\")\n",
    "\n",
    "def last10(update: Update, context: CallbackContext):\n",
    "    q=' '.join(context.args)\n",
    "    url = \"https://data.gov.sg/api/action/datastore_search?resource_id=f1765b54-a209-4718-8d38-a39237f502b3&fields=month,block,street_name,flat_type,flat_model,resale_price,floor_area_sqm,lease_commence_date,storey_range&sort=month%20desc&limit=10&q=\"+q\n",
    "    response=requests.get(url)\n",
    "    dataset=response.json()\n",
    "    df = pd.json_normalize(dataset['result'], \"records\")\n",
    "    df = df.sort_values(by='block').set_index('block').reindex(columns=['street_name','flat_type','resale_price','lease_commence_date','storey_range','floor_area_sqm','flat_model','month'])\n",
    "    df.replace(['2 ROOM', '3 ROOM', '4 ROOM', '5 ROOM', 'New Generation', 'Standard'],['2Rm','3Rm','4Rm','5Rm','NG','Std'], inplace=True) \n",
    "    context.bot.send_message(chat_id=update.effective_chat.id, text=tabulate(df, headers='keys', tablefmt='simple', numalign='left'))\n",
    "    \n",
    "def last20(update: Update, context: CallbackContext):\n",
    "    q=' '.join(context.args)\n",
    "    url = \"https://data.gov.sg/api/action/datastore_search?resource_id=f1765b54-a209-4718-8d38-a39237f502b3&fields=month,block,street_name,flat_type,flat_model,resale_price,floor_area_sqm,lease_commence_date,storey_range&sort=month%20desc&limit=20&q=\"+q\n",
    "    response=requests.get(url)\n",
    "    dataset=response.json()\n",
    "    df = pd.json_normalize(dataset['result'], \"records\")\n",
    "    df = df.sort_values(by='block').set_index('block').reindex(columns=['street_name','flat_type','resale_price','lease_commence_date','storey_range','floor_area_sqm','flat_model','month'])\n",
    "    df.replace(['2 ROOM', '3 ROOM', '4 ROOM', '5 ROOM', 'New Generation', 'Standard'],['2Rm','3Rm','4Rm','5Rm','NG','Std'], inplace=True) \n",
    "    context.bot.send_message(chat_id=update.effective_chat.id, text=tabulate(df, headers='keys', tablefmt='simple', numalign='left'))\n",
    "\n",
    "def last30(update: Update, context: CallbackContext):\n",
    "    q=' '.join(context.args)\n",
    "    url = \"https://data.gov.sg/api/action/datastore_search?resource_id=f1765b54-a209-4718-8d38-a39237f502b3&fields=month,block,street_name,flat_type,flat_model,resale_price,floor_area_sqm,lease_commence_date,storey_range&sort=month%20desc&limit=30&q=\"+q\n",
    "    response=requests.get(url)\n",
    "    dataset=response.json()\n",
    "    df = pd.json_normalize(dataset['result'], \"records\")\n",
    "    df = df.sort_values(by='block').set_index('block').reindex(columns=['street_name','flat_type','resale_price','lease_commence_date','storey_range','floor_area_sqm','flat_model','month'])\n",
    "    df.replace(['2 ROOM', '3 ROOM', '4 ROOM', '5 ROOM', 'New Generation', 'Standard'],['2Rm','3Rm','4Rm','5Rm','NG','Std'], inplace=True) \n",
    "    context.bot.send_message(chat_id=update.effective_chat.id, text=tabulate(df, headers='keys', tablefmt='simple', numalign='left'))\n",
    "    "
   ]
  },
  {
   "cell_type": "code",
   "execution_count": null,
   "metadata": {
    "colab": {
     "base_uri": "https://localhost:8080/"
    },
    "execution": {
     "iopub.status.busy": "2022-04-16T06:24:11.022305Z",
     "iopub.status.idle": "2022-04-16T06:24:11.022650Z",
     "shell.execute_reply": "2022-04-16T06:24:11.022552Z",
     "shell.execute_reply.started": "2022-04-16T06:24:11.022540Z"
    },
    "id": "OBjBf8RNfZ9D",
    "outputId": "b190f9ca-1fde-424a-95d3-92345cbcbedd"
   },
   "outputs": [],
   "source": [
    "### for testing API and response only\n",
    "url = \"https://data.gov.sg/api/action/datastore_search?resource_id=f1765b54-a209-4718-8d38-a39237f502b3&fields=month,block,street_name,flat_type,flat_model,resale_price,floor_area_sqm,lease_commence_date,storey_range&sort=month%20desc&limit=20&q=\"\n",
    "response=requests.get(url)\n",
    "dataset=response.json()\n",
    "df = pd.json_normalize(dataset['result'], \"records\")  \n",
    "df = df.sort_values(by='block').set_index('block').reindex(columns=['street_name','flat_type','resale_price','lease_commence_date','storey_range','floor_area_sqm','flat_model','month'])\n",
    "df.replace(['2 ROOM', '3 ROOM', '4 ROOM', '5 ROOM', 'New Generation', 'Standard'],['2Rm','3Rm','4Rm','5Rm','NG','Std'], inplace=True) \n",
    "print(df)\n",
    "\n",
    "import matplotlib.pyplot as plt\n",
    "\n",
    "ax = plt.subplot(frame_on=False) # no visible frame\n",
    "ax.xaxis.set_visible(False)  # hide the x axis\n",
    "ax.yaxis.set_visible(False)  # hide the y axis\n",
    "table(ax, df)  # where df is your data frame\n",
    "plt.rcParams[\"figure.figsize\"] = (22, 1)\n",
    "plt.savefig('mytable.png')\n"
   ]
  },
  {
   "cell_type": "code",
   "execution_count": null,
   "metadata": {
    "colab": {
     "base_uri": "https://localhost:8080/"
    },
    "execution": {
     "iopub.status.busy": "2022-04-16T06:24:11.023269Z",
     "iopub.status.idle": "2022-04-16T06:24:11.023749Z",
     "shell.execute_reply": "2022-04-16T06:24:11.023645Z",
     "shell.execute_reply.started": "2022-04-16T06:24:11.023632Z"
    },
    "id": "i1uwcY6_dYmI",
    "outputId": "04168612-0bfe-453e-cc3f-3a0170d91e48"
   },
   "outputs": [],
   "source": [
    "###\n",
    "from telegram.ext import CommandHandler\n",
    "\n",
    "start_handler = CommandHandler('start', start)\n",
    "dispatcher.add_handler(start_handler)\n",
    "\n",
    "last10_handler = CommandHandler('last10', last10)\n",
    "dispatcher.add_handler(last10_handler)\n",
    "\n",
    "last20_handler = CommandHandler('last20', last20)\n",
    "dispatcher.add_handler(last20_handler)\n",
    "\n",
    "last30_handler = CommandHandler('last30', last30)\n",
    "dispatcher.add_handler(last30_handler)\n",
    "\n",
    "bot.send_message(text='Launched!', chat_id=1349303768)\n",
    "\n",
    "#####\n",
    "updater.start_polling()\n",
    "\n"
   ]
  }
 ],
 "metadata": {
  "colab": {
   "collapsed_sections": [],
   "name": "resaleHDBpx.ipynb",
   "provenance": []
  },
  "kernelspec": {
   "display_name": "Python 3 (ipykernel)",
   "language": "python",
   "name": "python3"
  },
  "language_info": {
   "codemirror_mode": {
    "name": "ipython",
    "version": 3
   },
   "file_extension": ".py",
   "mimetype": "text/x-python",
   "name": "python",
   "nbconvert_exporter": "python",
   "pygments_lexer": "ipython3",
   "version": "3.9.10"
  }
 },
 "nbformat": 4,
 "nbformat_minor": 4
}
