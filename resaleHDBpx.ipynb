{
 "cells": [
  {
   "cell_type": "markdown",
   "metadata": {},
   "source": [
    "HDB Resale Transaction bot - by M. W. Ho (c) 2022\n"
   ]
  },
  {
   "cell_type": "code",
   "execution_count": 1,
   "metadata": {
    "colab": {
     "base_uri": "https://localhost:8080/"
    },
    "execution": {
     "iopub.execute_input": "2022-04-15T14:05:22.746924Z",
     "iopub.status.busy": "2022-04-15T14:05:22.745828Z",
     "iopub.status.idle": "2022-04-15T14:05:27.511057Z",
     "shell.execute_reply": "2022-04-15T14:05:27.510636Z",
     "shell.execute_reply.started": "2022-04-15T14:05:22.746802Z"
    },
    "id": "2ASK4ZgEbtEi",
    "outputId": "027cf55c-f88e-41dd-f631-ff4763c8b640"
   },
   "outputs": [
    {
     "name": "stdout",
     "output_type": "stream",
     "text": [
      "\u001b[33mWARNING: The directory '/home/jovyan/.cache/pip' or its parent directory is not owned or is not writable by the current user. The cache has been disabled. Check the permissions and owner of that directory. If executing pip with sudo, you should use sudo's -H flag.\u001b[0m\u001b[33m\n",
      "\u001b[0mRequirement already satisfied: python-telegram-bot in /opt/conda/lib/python3.9/site-packages (13.11)\n",
      "Requirement already satisfied: pytz>=2018.6 in /opt/conda/lib/python3.9/site-packages (from python-telegram-bot) (2021.3)\n",
      "Requirement already satisfied: APScheduler==3.6.3 in /opt/conda/lib/python3.9/site-packages (from python-telegram-bot) (3.6.3)\n",
      "Requirement already satisfied: cachetools==4.2.2 in /opt/conda/lib/python3.9/site-packages (from python-telegram-bot) (4.2.2)\n",
      "Requirement already satisfied: certifi in /opt/conda/lib/python3.9/site-packages (from python-telegram-bot) (2021.10.8)\n",
      "Requirement already satisfied: tornado>=6.1 in /opt/conda/lib/python3.9/site-packages (from python-telegram-bot) (6.1)\n",
      "Requirement already satisfied: tzlocal>=1.2 in /opt/conda/lib/python3.9/site-packages (from APScheduler==3.6.3->python-telegram-bot) (4.1)\n",
      "Requirement already satisfied: six>=1.4.0 in /opt/conda/lib/python3.9/site-packages (from APScheduler==3.6.3->python-telegram-bot) (1.16.0)\n",
      "Requirement already satisfied: setuptools>=0.7 in /opt/conda/lib/python3.9/site-packages (from APScheduler==3.6.3->python-telegram-bot) (60.9.3)\n",
      "Requirement already satisfied: pytz-deprecation-shim in /opt/conda/lib/python3.9/site-packages (from tzlocal>=1.2->APScheduler==3.6.3->python-telegram-bot) (0.1.0.post0)\n",
      "Requirement already satisfied: tzdata in /opt/conda/lib/python3.9/site-packages (from pytz-deprecation-shim->tzlocal>=1.2->APScheduler==3.6.3->python-telegram-bot) (2022.1)\n",
      "\u001b[33mWARNING: Running pip as the 'root' user can result in broken permissions and conflicting behaviour with the system package manager. It is recommended to use a virtual environment instead: https://pip.pypa.io/warnings/venv\u001b[0m\u001b[33m\n",
      "\u001b[0m\n",
      " {'username': 'HDBResaleTx_bot', 'supports_inline_queries': False, 'is_bot': True, 'can_read_all_group_messages': False, 'can_join_groups': True, 'first_name': 'HDBResaleTx', 'id': 5218309496} \n",
      "\n"
     ]
    }
   ],
   "source": [
    "!pip install python-telegram-bot\n",
    "\n",
    "import pandas as pd\n",
    "import requests\n",
    "import telegram\n",
    "\n",
    "bot = telegram.Bot(token='5218309496:AAHV2gIFLgNSK37D98kvFScBiLMxorHotJU')\n",
    "print(\"\\n\",bot.get_me(),\"\\n\")\n",
    "\n",
    "###\n",
    "from telegram.ext import Updater\n",
    "updater = Updater(token='5218309496:AAHV2gIFLgNSK37D98kvFScBiLMxorHotJU', use_context=True)\n",
    "dispatcher = updater.dispatcher\n",
    "\n",
    "###\n",
    "import logging\n",
    "logging.basicConfig(format='%(asctime)s - %(name)s - %(levelname)s - %(message)s',\n",
    "                     level=logging.INFO)"
   ]
  },
  {
   "cell_type": "code",
   "execution_count": 2,
   "metadata": {
    "execution": {
     "iopub.execute_input": "2022-04-15T14:05:27.512502Z",
     "iopub.status.busy": "2022-04-15T14:05:27.512241Z",
     "iopub.status.idle": "2022-04-15T14:05:27.519831Z",
     "shell.execute_reply": "2022-04-15T14:05:27.519319Z",
     "shell.execute_reply.started": "2022-04-15T14:05:27.512481Z"
    },
    "id": "-VcTXBEaCt6c"
   },
   "outputs": [],
   "source": [
    "###\n",
    "from telegram import Update\n",
    "from telegram.ext import CallbackContext\n",
    "\n",
    "def start(update: Update, context: CallbackContext):\n",
    "    context.bot.send_message(chat_id=update.effective_chat.id, text=\"HDBRT Bot - Get latest HDB Resale Transactions.\\nType / for commands.\")\n",
    "\n",
    "def last10(update: Update, context: CallbackContext):\n",
    "    q=' '.join(context.args)\n",
    "    url = \"https://data.gov.sg/api/action/datastore_search?resource_id=f1765b54-a209-4718-8d38-a39237f502b3&fields=month,block,street_name,flat_type,flat_model,resale_price,floor_area_sqm,remaining_lease,storey_range&sort=month%20desc&limit=10&q=\"+q\n",
    "    response=requests.get(url)\n",
    "    dataset=response.json()\n",
    "    df = pd.json_normalize(dataset['result'], \"records\")\n",
    "    df = df.sort_values(by='block').set_index('block').reindex(columns=['street_name','flat_type','resale_price','remaining_lease','storey_range','floor_area_sqm','flat_model','month'])\n",
    "    context.bot.send_message(chat_id=update.effective_chat.id, text=str(df))\n",
    "\n",
    "def last20(update: Update, context: CallbackContext):\n",
    "    q=' '.join(context.args)\n",
    "    url = \"https://data.gov.sg/api/action/datastore_search?resource_id=f1765b54-a209-4718-8d38-a39237f502b3&fields=month,block,street_name,flat_type,flat_model,resale_price,floor_area_sqm,remaining_lease,storey_range&sort=month%20desc&limit=20&q=\"+q\n",
    "    response=requests.get(url)\n",
    "    dataset=response.json()\n",
    "    df = pd.json_normalize(dataset['result'], \"records\")\n",
    "    df = df.sort_values(by='block').set_index('block').reindex(columns=['street_name','flat_type','resale_price','remaining_lease','storey_range','floor_area_sqm','flat_model','month'])\n",
    "    context.bot.send_message(chat_id=update.effective_chat.id, text=str(df))\n",
    "\n",
    "def last30(update: Update, context: CallbackContext):\n",
    "    q=' '.join(context.args)\n",
    "    url = \"https://data.gov.sg/api/action/datastore_search?resource_id=f1765b54-a209-4718-8d38-a39237f502b3&fields=month,block,street_name,flat_type,flat_model,resale_price,floor_area_sqm,remaining_lease,storey_range&sort=month%20desc&limit=30&q=\"+q\n",
    "    response=requests.get(url)\n",
    "    dataset=response.json()\n",
    "    df = pd.json_normalize(dataset['result'], \"records\")\n",
    "    df = df.sort_values(by='block').set_index('block').reindex(columns=['street_name','flat_type','resale_price','remaining_lease','storey_range','floor_area_sqm','flat_model','month'])\n",
    "    context.bot.send_message(chat_id=update.effective_chat.id, text=str(df))\n",
    "    "
   ]
  },
  {
   "cell_type": "code",
   "execution_count": 3,
   "metadata": {
    "colab": {
     "base_uri": "https://localhost:8080/"
    },
    "execution": {
     "iopub.execute_input": "2022-04-15T14:05:27.521265Z",
     "iopub.status.busy": "2022-04-15T14:05:27.520737Z",
     "iopub.status.idle": "2022-04-15T14:05:27.984056Z",
     "shell.execute_reply": "2022-04-15T14:05:27.983557Z",
     "shell.execute_reply.started": "2022-04-15T14:05:27.521243Z"
    },
    "id": "OBjBf8RNfZ9D",
    "outputId": "b190f9ca-1fde-424a-95d3-92345cbcbedd"
   },
   "outputs": [
    {
     "name": "stdout",
     "output_type": "stream",
     "text": [
      "             street_name flat_type resale_price     remaining_lease  \\\n",
      "block                                                                 \n",
      "117     ANG MO KIO AVE 4    3 ROOM       340000  55 years 02 months   \n",
      "126     ANG MO KIO AVE 3    3 ROOM       380000  55 years 06 months   \n",
      "128     ANG MO KIO AVE 3    3 ROOM       394888  55 years 06 months   \n",
      "129     ANG MO KIO AVE 3    3 ROOM       350000  55 years 10 months   \n",
      "154     ANG MO KIO AVE 5    3 ROOM       360000  57 years 10 months   \n",
      "348     ANG MO KIO AVE 3    3 ROOM       375000   55 years 01 month   \n",
      "404    ANG MO KIO AVE 10    3 ROOM       400000  56 years 02 months   \n",
      "405    ANG MO KIO AVE 10    3 ROOM       345000  56 years 02 months   \n",
      "418    ANG MO KIO AVE 10    3 ROOM       340000  56 years 05 months   \n",
      "435    ANG MO KIO AVE 10    3 ROOM       335000  55 years 10 months   \n",
      "435    ANG MO KIO AVE 10    3 ROOM       320000  55 years 10 months   \n",
      "473    ANG MO KIO AVE 10    3 ROOM       338000  61 years 04 months   \n",
      "533     ANG MO KIO AVE 5    3 ROOM       330000  56 years 11 months   \n",
      "534    ANG MO KIO AVE 10    3 ROOM       375000  56 years 11 months   \n",
      "547    ANG MO KIO AVE 10    4 ROOM       445000  57 years 10 months   \n",
      "547    ANG MO KIO AVE 10    4 ROOM       452000  57 years 10 months   \n",
      "565     ANG MO KIO AVE 3    4 ROOM       420000  56 years 10 months   \n",
      "587     ANG MO KIO AVE 3    3 ROOM       365000  56 years 03 months   \n",
      "602     ANG MO KIO AVE 5    3 ROOM       338000  57 years 03 months   \n",
      "610     ANG MO KIO AVE 4    3 ROOM       350000  57 years 08 months   \n",
      "\n",
      "      storey_range floor_area_sqm      flat_model    month  \n",
      "block                                                       \n",
      "117       01 TO 03             74  New Generation  2022-04  \n",
      "126       07 TO 09             67  New Generation  2022-04  \n",
      "128       04 TO 06             82  New Generation  2022-04  \n",
      "129       01 TO 03             73  New Generation  2022-04  \n",
      "154       01 TO 03             82  New Generation  2022-04  \n",
      "348       07 TO 09             73  New Generation  2022-04  \n",
      "404       07 TO 09             82  New Generation  2022-04  \n",
      "405       10 TO 12             67  New Generation  2022-04  \n",
      "418       04 TO 06             74  New Generation  2022-04  \n",
      "435       01 TO 03             67  New Generation  2022-04  \n",
      "435       01 TO 03             67  New Generation  2022-04  \n",
      "473       10 TO 12             67  New Generation  2022-04  \n",
      "533       07 TO 09             67  New Generation  2022-04  \n",
      "534       01 TO 03             82  New Generation  2022-04  \n",
      "547       07 TO 09             92  New Generation  2022-04  \n",
      "547       10 TO 12             92  New Generation  2022-04  \n",
      "565       10 TO 12             92  New Generation  2022-04  \n",
      "587       10 TO 12             67  New Generation  2022-04  \n",
      "602       04 TO 06             67  New Generation  2022-04  \n",
      "610       10 TO 12             68  New Generation  2022-04  \n"
     ]
    }
   ],
   "source": [
    "    ### for testing API and response only\n",
    "    url = \"https://data.gov.sg/api/action/datastore_search?resource_id=f1765b54-a209-4718-8d38-a39237f502b3&fields=month,block,street_name,flat_type,flat_model,resale_price,floor_area_sqm,remaining_lease,storey_range&sort=month%20desc&limit=20&q=\"\n",
    "    response=requests.get(url)\n",
    "    dataset=response.json()\n",
    "    df = pd.json_normalize(dataset['result'], \"records\")  \n",
    "    df = df.sort_values(by='block').set_index('block').reindex(columns=['street_name','flat_type','resale_price','remaining_lease','storey_range','floor_area_sqm','flat_model','month'])\n",
    "    print(df)\n"
   ]
  },
  {
   "cell_type": "code",
   "execution_count": 6,
   "metadata": {
    "colab": {
     "base_uri": "https://localhost:8080/"
    },
    "execution": {
     "iopub.execute_input": "2022-04-15T15:07:27.240847Z",
     "iopub.status.busy": "2022-04-15T15:07:27.240534Z",
     "iopub.status.idle": "2022-04-15T15:07:27.778388Z",
     "shell.execute_reply": "2022-04-15T15:07:27.777716Z",
     "shell.execute_reply.started": "2022-04-15T15:07:27.240818Z"
    },
    "id": "i1uwcY6_dYmI",
    "outputId": "04168612-0bfe-453e-cc3f-3a0170d91e48"
   },
   "outputs": [
    {
     "name": "stderr",
     "output_type": "stream",
     "text": [
      "2022-04-15 15:07:44,682 - telegram.ext.updater - ERROR - Error while getting Updates: Conflict: terminated by other getUpdates request; make sure that only one bot instance is running\n",
      "2022-04-15 15:07:44,683 - telegram.ext.dispatcher - ERROR - No error handlers are registered, logging exception.\n",
      "Traceback (most recent call last):\n",
      "  File \"/opt/conda/lib/python3.9/site-packages/telegram/ext/updater.py\", line 646, in _network_loop_retry\n",
      "    if not action_cb():\n",
      "  File \"/opt/conda/lib/python3.9/site-packages/telegram/ext/updater.py\", line 597, in polling_action_cb\n",
      "    updates = self.bot.get_updates(\n",
      "  File \"/opt/conda/lib/python3.9/site-packages/telegram/ext/extbot.py\", line 224, in get_updates\n",
      "    updates = super().get_updates(\n",
      "  File \"/opt/conda/lib/python3.9/site-packages/telegram/bot.py\", line 130, in decorator\n",
      "    result = func(*args, **kwargs)\n",
      "  File \"/opt/conda/lib/python3.9/site-packages/telegram/bot.py\", line 3054, in get_updates\n",
      "    self._post(\n",
      "  File \"/opt/conda/lib/python3.9/site-packages/telegram/bot.py\", line 295, in _post\n",
      "    return self.request.post(\n",
      "  File \"/opt/conda/lib/python3.9/site-packages/telegram/utils/request.py\", line 361, in post\n",
      "    result = self._request_wrapper(\n",
      "  File \"/opt/conda/lib/python3.9/site-packages/telegram/utils/request.py\", line 283, in _request_wrapper\n",
      "    raise Conflict(message)\n",
      "telegram.error.Conflict: Conflict: terminated by other getUpdates request; make sure that only one bot instance is running\n"
     ]
    }
   ],
   "source": [
    "###\n",
    "from telegram.ext import CommandHandler\n",
    "\n",
    "start_handler = CommandHandler('start', start)\n",
    "dispatcher.add_handler(start_handler)\n",
    "\n",
    "last10_handler = CommandHandler('last10', last10)\n",
    "dispatcher.add_handler(last10_handler)\n",
    "\n",
    "last20_handler = CommandHandler('last20', last20)\n",
    "dispatcher.add_handler(last20_handler)\n",
    "\n",
    "last30_handler = CommandHandler('last30', last30)\n",
    "dispatcher.add_handler(last30_handler)\n",
    "\n",
    "bot.send_message(text='Launched!', chat_id=1349303768)\n",
    "\n",
    "#####\n",
    "updater.start_polling()\n",
    "\n"
   ]
  }
 ],
 "metadata": {
  "colab": {
   "collapsed_sections": [],
   "name": "resaleHDBpx.ipynb",
   "provenance": []
  },
  "kernelspec": {
   "display_name": "Python 3 (ipykernel)",
   "language": "python",
   "name": "python3"
  },
  "language_info": {
   "codemirror_mode": {
    "name": "ipython",
    "version": 3
   },
   "file_extension": ".py",
   "mimetype": "text/x-python",
   "name": "python",
   "nbconvert_exporter": "python",
   "pygments_lexer": "ipython3",
   "version": "3.9.10"
  }
 },
 "nbformat": 4,
 "nbformat_minor": 4
}
