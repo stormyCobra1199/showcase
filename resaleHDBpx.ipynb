{
 "cells": [
  {
   "cell_type": "markdown",
   "metadata": {},
   "source": [
    "HDB Resale Transaction bot - by M. W. Ho (c) 2022\n"
   ]
  },
  {
   "cell_type": "code",
   "execution_count": 1,
   "metadata": {
    "colab": {
     "base_uri": "https://localhost:8080/"
    },
    "execution": {
     "iopub.execute_input": "2022-04-17T05:39:28.374781Z",
     "iopub.status.busy": "2022-04-17T05:39:28.374229Z",
     "iopub.status.idle": "2022-04-17T05:39:37.413329Z",
     "shell.execute_reply": "2022-04-17T05:39:37.409801Z",
     "shell.execute_reply.started": "2022-04-17T05:39:28.374695Z"
    },
    "id": "2ASK4ZgEbtEi",
    "outputId": "027cf55c-f88e-41dd-f631-ff4763c8b640"
   },
   "outputs": [
    {
     "name": "stdout",
     "output_type": "stream",
     "text": [
      "\u001b[33mWARNING: The directory '/home/jovyan/.cache/pip' or its parent directory is not owned or is not writable by the current user. The cache has been disabled. Check the permissions and owner of that directory. If executing pip with sudo, you should use sudo's -H flag.\u001b[0m\u001b[33m\n",
      "\u001b[0mRequirement already satisfied: python-telegram-bot in /opt/conda/lib/python3.9/site-packages (13.11)\n",
      "Requirement already satisfied: certifi in /opt/conda/lib/python3.9/site-packages (from python-telegram-bot) (2021.10.8)\n",
      "Requirement already satisfied: tornado>=6.1 in /opt/conda/lib/python3.9/site-packages (from python-telegram-bot) (6.1)\n",
      "Requirement already satisfied: APScheduler==3.6.3 in /opt/conda/lib/python3.9/site-packages (from python-telegram-bot) (3.6.3)\n",
      "Requirement already satisfied: pytz>=2018.6 in /opt/conda/lib/python3.9/site-packages (from python-telegram-bot) (2021.3)\n",
      "Requirement already satisfied: cachetools==4.2.2 in /opt/conda/lib/python3.9/site-packages (from python-telegram-bot) (4.2.2)\n",
      "Requirement already satisfied: setuptools>=0.7 in /opt/conda/lib/python3.9/site-packages (from APScheduler==3.6.3->python-telegram-bot) (60.9.3)\n",
      "Requirement already satisfied: tzlocal>=1.2 in /opt/conda/lib/python3.9/site-packages (from APScheduler==3.6.3->python-telegram-bot) (4.1)\n",
      "Requirement already satisfied: six>=1.4.0 in /opt/conda/lib/python3.9/site-packages (from APScheduler==3.6.3->python-telegram-bot) (1.16.0)\n",
      "Requirement already satisfied: pytz-deprecation-shim in /opt/conda/lib/python3.9/site-packages (from tzlocal>=1.2->APScheduler==3.6.3->python-telegram-bot) (0.1.0.post0)\n",
      "Requirement already satisfied: tzdata in /opt/conda/lib/python3.9/site-packages (from pytz-deprecation-shim->tzlocal>=1.2->APScheduler==3.6.3->python-telegram-bot) (2022.1)\n",
      "\u001b[33mWARNING: Running pip as the 'root' user can result in broken permissions and conflicting behaviour with the system package manager. It is recommended to use a virtual environment instead: https://pip.pypa.io/warnings/venv\u001b[0m\u001b[33m\n",
      "\u001b[0m\u001b[33mWARNING: The directory '/home/jovyan/.cache/pip' or its parent directory is not owned or is not writable by the current user. The cache has been disabled. Check the permissions and owner of that directory. If executing pip with sudo, you should use sudo's -H flag.\u001b[0m\u001b[33m\n",
      "\u001b[0mRequirement already satisfied: tabulate in /opt/conda/lib/python3.9/site-packages (0.8.9)\n",
      "\u001b[33mWARNING: Running pip as the 'root' user can result in broken permissions and conflicting behaviour with the system package manager. It is recommended to use a virtual environment instead: https://pip.pypa.io/warnings/venv\u001b[0m\u001b[33m\n",
      "\u001b[0m\n",
      " {'can_read_all_group_messages': False, 'username': 'HDBResaleTx_bot', 'is_bot': True, 'first_name': 'HDBResaleTx', 'id': 5218309496, 'can_join_groups': True, 'supports_inline_queries': False} \n",
      "\n"
     ]
    }
   ],
   "source": [
    "!pip install python-telegram-bot\n",
    "!pip install tabulate\n",
    "import pandas as pd\n",
    "import requests\n",
    "import telegram\n",
    "\n",
    "from tabulate import tabulate\n",
    "from pandas.plotting import table \n",
    "\n",
    "bot = telegram.Bot(token='5218309496:AAFeMXiuBjMkhVOB9diCboh3Uk9UCc1Kq9E')\n",
    "print(\"\\n\",bot.get_me(),\"\\n\")\n",
    "\n",
    "from telegram.ext import Updater\n",
    "updater = Updater(token='5218309496:AAFeMXiuBjMkhVOB9diCboh3Uk9UCc1Kq9E', use_context=True)\n",
    "dispatcher = updater.dispatcher\n",
    "\n",
    "import logging\n",
    "logging.basicConfig(format='%(asctime)s - %(name)s - %(levelname)s - %(message)s', level=logging.INFO)"
   ]
  },
  {
   "cell_type": "code",
   "execution_count": 2,
   "metadata": {
    "execution": {
     "iopub.execute_input": "2022-04-17T05:39:37.415690Z",
     "iopub.status.busy": "2022-04-17T05:39:37.415421Z",
     "iopub.status.idle": "2022-04-17T05:39:37.438175Z",
     "shell.execute_reply": "2022-04-17T05:39:37.437292Z",
     "shell.execute_reply.started": "2022-04-17T05:39:37.415650Z"
    },
    "id": "-VcTXBEaCt6c"
   },
   "outputs": [],
   "source": [
    "###\n",
    "from telegram import Update\n",
    "from telegram.ext import CallbackContext\n",
    "\n",
    "def pulldata(rooms, town):\n",
    "    if rooms==\"\":\n",
    "        url = \"https://data.gov.sg/api/action/datastore_search?resource_id=f1765b54-a209-4718-8d38-a39237f502b3&fields=month,block,street_name,flat_type,flat_model,resale_price,floor_area_sqm,lease_commence_date,storey_range&sort=month%20desc&limit=20&q=\"+town\n",
    "    else:\n",
    "        url = \"https://data.gov.sg/api/action/datastore_search?resource_id=f1765b54-a209-4718-8d38-a39237f502b3&fields=month,block,street_name,flat_type,flat_model,resale_price,floor_area_sqm,lease_commence_date,storey_range&sort=month%20desc&limit=20&filters={\\\"flat_type\\\":\\\"\"+rooms.upper()+\"\\\",\\\"town\\\":\\\"\"+town.upper()+\"\\\"}\"\n",
    "    response=requests.get(url)\n",
    "    dataset=response.json()\n",
    "    df = pd.json_normalize(dataset['result'], \"records\")  \n",
    "    df = df.sort_values(by='block').set_index('block').reindex(columns=['street_name','flat_type','flat_model','resale_price','floor_area_sqm','lease_commence_date','storey_range','month'])\n",
    "    df.rename(columns={'street_name': 'street', 'flat_type': 'type', 'resale_price': 'price', 'lease_commence_date': 'built', 'storey_range': 'floor', 'floor_area_sqm': 'sqm', 'flat_model': 'model', 'month': 'sold'}, inplace=True)\n",
    "    df.replace(['2 ROOM', '3 ROOM', '4 ROOM', '5 ROOM', 'New Generation', 'Standard', 'EXECUTIVE', 'Maisonette', 'Simplified', 'Improved'],['2','3','4','5','NG','Std','E','M','S','I'], inplace=True) \n",
    "    df['type']=df['type']+df['model']\n",
    "    df.drop('model', axis=1, inplace=True)\n",
    "    dft=tabulate(df, headers='keys', tablefmt='plain', numalign='left')\n",
    "    return dft\n",
    "\n",
    "def start(update: Update, context: CallbackContext):\n",
    "    context.bot.send_message(chat_id=update.effective_chat.id, text=\"HDBRT Bot - Get latest HDB Resale Transactions.\\nType / for commands.\")\n",
    "   \n",
    "def r2(update: Update, context: CallbackContext):\n",
    "    t=' '.join(context.args)\n",
    "    url = \"https://data.gov.sg/api/action/datastore_search?resource_id=f1765b54-a209-4718-8d38-a39237f502b3&fields=month,block,street_name,flat_type,flat_model,resale_price,floor_area_sqm,lease_commence_date,storey_range&sort=month%20desc&limit=20&filters={\\\"flat_type\\\":\\\"\"+\"2 ROOM\"+\"\\\",\\\"town\\\":\\\"\"+t.upper()+\"\\\"}\"\n",
    "    response=requests.get(url)\n",
    "    dataset=response.json()\n",
    "    df = pd.json_normalize(dataset['result'], \"records\")  \n",
    "    df = df.sort_values(by='block').set_index('block').reindex(columns=['street_name','flat_type','flat_model','resale_price','floor_area_sqm','lease_commence_date','storey_range','month'])\n",
    "    df.rename(columns={'street_name': 'street', 'flat_type': 'type', 'resale_price': 'price', 'lease_commence_date': 'built', 'storey_range': 'floor', 'floor_area_sqm': 'sqm', 'flat_model': 'model', 'month': 'sold'}, inplace=True)\n",
    "    df.replace(['2 ROOM', '3 ROOM', '4 ROOM', '5 ROOM', 'New Generation', 'Standard', 'EXECUTIVE', 'Maisonette', 'Simplified', 'Improved'],['2','3','4','5','NG','Std','E','M','S','I'], inplace=True) \n",
    "    df['type']=df['type']+df['model']\n",
    "    df.drop('model', axis=1, inplace=True)\n",
    "    dft=tabulate(df, headers='keys', tablefmt='plain', numalign='left')\n",
    "    context.bot.send_message(chat_id=update.effective_chat.id, text=dft)\n",
    "       \n",
    "def r3(update: Update, context: CallbackContext):\n",
    "    t=' '.join(context.args)\n",
    "    url = \"https://data.gov.sg/api/action/datastore_search?resource_id=f1765b54-a209-4718-8d38-a39237f502b3&fields=month,block,street_name,flat_type,flat_model,resale_price,floor_area_sqm,lease_commence_date,storey_range&sort=month%20desc&limit=20&filters={\\\"flat_type\\\":\\\"\"+\"3 ROOM\"+\"\\\",\\\"town\\\":\\\"\"+t.upper()+\"\\\"}\"\n",
    "    response=requests.get(url)\n",
    "    dataset=response.json()\n",
    "    df = pd.json_normalize(dataset['result'], \"records\")  \n",
    "    df = df.sort_values(by='block').set_index('block').reindex(columns=['street_name','flat_type','flat_model','resale_price','floor_area_sqm','lease_commence_date','storey_range','month'])\n",
    "    df.rename(columns={'street_name': 'street', 'flat_type': 'type', 'resale_price': 'price', 'lease_commence_date': 'built', 'storey_range': 'floor', 'floor_area_sqm': 'sqm', 'flat_model': 'model', 'month': 'sold'}, inplace=True)\n",
    "    df.replace(['2 ROOM', '3 ROOM', '4 ROOM', '5 ROOM', 'New Generation', 'Standard', 'EXECUTIVE', 'Maisonette', 'Simplified', 'Improved'],['2','3','4','5','NG','Std','E','M','S','I'], inplace=True) \n",
    "    df['type']=df['type']+df['model']\n",
    "    df.drop('model', axis=1, inplace=True)\n",
    "    dft=tabulate(df, headers='keys', tablefmt='plain', numalign='left')\n",
    "    context.bot.send_message(chat_id=update.effective_chat.id, text=dft)\n",
    "    \n",
    "def r4(update: Update, context: CallbackContext):\n",
    "    t=' '.join(context.args)\n",
    "    url = \"https://data.gov.sg/api/action/datastore_search?resource_id=f1765b54-a209-4718-8d38-a39237f502b3&fields=month,block,street_name,flat_type,flat_model,resale_price,floor_area_sqm,lease_commence_date,storey_range&sort=month%20desc&limit=20&filters={\\\"flat_type\\\":\\\"\"+\"4 ROOM\"+\"\\\",\\\"town\\\":\\\"\"+t.upper()+\"\\\"}\"\n",
    "    response=requests.get(url)\n",
    "    dataset=response.json()\n",
    "    df = pd.json_normalize(dataset['result'], \"records\")  \n",
    "    df = df.sort_values(by='block').set_index('block').reindex(columns=['street_name','flat_type','flat_model','resale_price','floor_area_sqm','lease_commence_date','storey_range','month'])\n",
    "    df.rename(columns={'street_name': 'street', 'flat_type': 'type', 'resale_price': 'price', 'lease_commence_date': 'built', 'storey_range': 'floor', 'floor_area_sqm': 'sqm', 'flat_model': 'model', 'month': 'sold'}, inplace=True)\n",
    "    df.replace(['2 ROOM', '3 ROOM', '4 ROOM', '5 ROOM', 'New Generation', 'Standard', 'EXECUTIVE', 'Maisonette', 'Simplified', 'Improved'],['2','3','4','5','NG','Std','E','M','S','I'], inplace=True) \n",
    "    df['type']=df['type']+df['model']\n",
    "    df.drop('model', axis=1, inplace=True)\n",
    "    dft=tabulate(df, headers='keys', tablefmt='plain', numalign='left')\n",
    "    context.bot.send_message(chat_id=update.effective_chat.id, text=dft)\n",
    "    \n",
    "def r5(update: Update, context: CallbackContext):\n",
    "    t=' '.join(context.args)\n",
    "    url = \"https://data.gov.sg/api/action/datastore_search?resource_id=f1765b54-a209-4718-8d38-a39237f502b3&fields=month,block,street_name,flat_type,flat_model,resale_price,floor_area_sqm,lease_commence_date,storey_range&sort=month%20desc&limit=20&filters={\\\"flat_type\\\":\\\"\"+\"5 ROOM\"+\"\\\",\\\"town\\\":\\\"\"+t.upper()+\"\\\"}\"\n",
    "    response=requests.get(url)\n",
    "    dataset=response.json()\n",
    "    df = pd.json_normalize(dataset['result'], \"records\")  \n",
    "    df = df.sort_values(by='block').set_index('block').reindex(columns=['street_name','flat_type','flat_model','resale_price','floor_area_sqm','lease_commence_date','storey_range','month'])\n",
    "    df.rename(columns={'street_name': 'street', 'flat_type': 'type', 'resale_price': 'price', 'lease_commence_date': 'built', 'storey_range': 'floor', 'floor_area_sqm': 'sqm', 'flat_model': 'model', 'month': 'sold'}, inplace=True)\n",
    "    df.replace(['2 ROOM', '3 ROOM', '4 ROOM', '5 ROOM', 'New Generation', 'Standard', 'EXECUTIVE', 'Maisonette', 'Simplified', 'Improved'],['2','3','4','5','NG','Std','E','M','S','I'], inplace=True) \n",
    "    df['type']=df['type']+df['model']\n",
    "    df.drop('model', axis=1, inplace=True)\n",
    "    dft=tabulate(df, headers='keys', tablefmt='plain', numalign='left')\n",
    "    context.bot.send_message(chat_id=update.effective_chat.id, text=dft)\n",
    "    \n",
    "def hs(update: Update, context: CallbackContext):\n",
    "    q=' '.join(context.args)\n",
    "    url = \"https://data.gov.sg/api/action/datastore_search?resource_id=f1765b54-a209-4718-8d38-a39237f502b3&fields=month,block,street_name,flat_type,flat_model,resale_price,floor_area_sqm,lease_commence_date,storey_range&sort=month%20desc&limit=20&q=\"+q\n",
    "    response=requests.get(url)\n",
    "    dataset=response.json()\n",
    "    df = pd.json_normalize(dataset['result'], \"records\")  \n",
    "    df = df.sort_values(by='block').set_index('block').reindex(columns=['street_name','flat_type','flat_model','resale_price','floor_area_sqm','lease_commence_date','storey_range','month'])\n",
    "    df.rename(columns={'street_name': 'street', 'flat_type': 'type', 'resale_price': 'price', 'lease_commence_date': 'built', 'storey_range': 'floor', 'floor_area_sqm': 'sqm', 'flat_model': 'model', 'month': 'sold'}, inplace=True)\n",
    "    df.replace(['2 ROOM', '3 ROOM', '4 ROOM', '5 ROOM', 'New Generation', 'Standard', 'EXECUTIVE', 'Maisonette', 'Simplified', 'Improved'],['2','3','4','5','NG','Std','E','M','S','I'], inplace=True) \n",
    "    df['type']=df['type']+df['model']\n",
    "    df.drop('model', axis=1, inplace=True)\n",
    "    dft=tabulate(df, headers='keys', tablefmt='plain', numalign='left')\n",
    "    context.bot.send_message(chat_id=update.effective_chat.id, text=dft)    \n",
    "\n",
    "    "
   ]
  },
  {
   "cell_type": "code",
   "execution_count": 3,
   "metadata": {
    "colab": {
     "base_uri": "https://localhost:8080/"
    },
    "execution": {
     "iopub.execute_input": "2022-04-17T05:39:37.439829Z",
     "iopub.status.busy": "2022-04-17T05:39:37.439637Z",
     "iopub.status.idle": "2022-04-17T05:39:38.104068Z",
     "shell.execute_reply": "2022-04-17T05:39:38.103304Z",
     "shell.execute_reply.started": "2022-04-17T05:39:37.439806Z"
    },
    "id": "i1uwcY6_dYmI",
    "outputId": "04168612-0bfe-453e-cc3f-3a0170d91e48"
   },
   "outputs": [
    {
     "name": "stderr",
     "output_type": "stream",
     "text": [
      "2022-04-17 05:39:37,699 - apscheduler.scheduler - INFO - Scheduler started\n"
     ]
    },
    {
     "data": {
      "text/plain": [
       "<queue.Queue at 0x7f8d7817bfd0>"
      ]
     },
     "execution_count": 3,
     "metadata": {},
     "output_type": "execute_result"
    }
   ],
   "source": [
    "###\n",
    "from telegram.ext import CommandHandler\n",
    "\n",
    "start_handler = CommandHandler('start', start)\n",
    "dispatcher.add_handler(start_handler)\n",
    "\n",
    "r2_handler = CommandHandler('2r', r2)\n",
    "dispatcher.add_handler(r2_handler)\n",
    "\n",
    "r3_handler = CommandHandler('3r', r3)\n",
    "dispatcher.add_handler(r3_handler)\n",
    "\n",
    "r4_handler = CommandHandler('4r', r4)\n",
    "dispatcher.add_handler(r4_handler)\n",
    "\n",
    "r5_handler = CommandHandler('5r', r5)\n",
    "dispatcher.add_handler(r5_handler)\n",
    "\n",
    "hs_handler = CommandHandler('hs', hs)\n",
    "dispatcher.add_handler(hs_handler)\n",
    "\n",
    "bot.send_message(text='Launched!', chat_id=1349303768)\n",
    "\n",
    "#####\n",
    "updater.start_polling()\n",
    "\n"
   ]
  },
  {
   "cell_type": "code",
   "execution_count": 4,
   "metadata": {
    "colab": {
     "base_uri": "https://localhost:8080/"
    },
    "execution": {
     "iopub.execute_input": "2022-04-17T05:39:38.105787Z",
     "iopub.status.busy": "2022-04-17T05:39:38.105612Z",
     "iopub.status.idle": "2022-04-17T05:39:38.582075Z",
     "shell.execute_reply": "2022-04-17T05:39:38.581410Z",
     "shell.execute_reply.started": "2022-04-17T05:39:38.105767Z"
    },
    "id": "OBjBf8RNfZ9D",
    "outputId": "b190f9ca-1fde-424a-95d3-92345cbcbedd"
   },
   "outputs": [
    {
     "name": "stdout",
     "output_type": "stream",
     "text": [
      "https://data.gov.sg/api/action/datastore_search?resource_id=f1765b54-a209-4718-8d38-a39237f502b3&fields=month,block,street_name,flat_type,flat_model,resale_price,floor_area_sqm,lease_commence_date,storey_range&sort=month%20desc&limit=100&filters={\"flat_type\":\"2 ROOM\",\"town\":\"TAMPINES\"}\n"
     ]
    },
    {
     "data": {
      "text/plain": [
       "'block    street           type      price    sqm    built    floor     sold\\n299A     TAMPINES ST 22   2Model A  250000   45     2012     01 TO 03  2017-01\\n299A     TAMPINES ST 22   2Model A  275000   45     2012     07 TO 09  2020-09\\n299A     TAMPINES ST 22   2Model A  250000   45     2012     07 TO 09  2020-02\\n299A     TAMPINES ST 22   2Model A  260000   45     2012     07 TO 09  2019-09\\n299A     TAMPINES ST 22   2Model A  258000   45     2012     10 TO 12  2020-09\\n299A     TAMPINES ST 22   2Model A  260000   45     2012     01 TO 03  2018-09\\n299A     TAMPINES ST 22   2Model A  260000   45     2012     07 TO 09  2018-12\\n299A     TAMPINES ST 22   2Model A  261000   45     2012     01 TO 03  2018-08\\n299A     TAMPINES ST 22   2Model A  263000   45     2012     10 TO 12  2018-07\\n299A     TAMPINES ST 22   2Model A  265000   45     2012     07 TO 09  2018-07\\n299A     TAMPINES ST 22   2Model A  260000   45     2012     07 TO 09  2020-06\\n499A     TAMPINES AVE 9   2Model A  278000   46     2014     10 TO 12  2018-09\\n499A     TAMPINES AVE 9   2Model A  275000   46     2014     10 TO 12  2018-10\\n499A     TAMPINES AVE 9   2Model A  270000   46     2014     10 TO 12  2019-01\\n499A     TAMPINES AVE 9   2Model A  260000   46     2014     10 TO 12  2019-02\\n499A     TAMPINES AVE 9   2Model A  267000   46     2014     01 TO 03  2019-02\\n499A     TAMPINES AVE 9   2Model A  288800   46     2014     10 TO 12  2019-04\\n499A     TAMPINES AVE 9   2Model A  240000   46     2014     01 TO 03  2019-07\\n499A     TAMPINES AVE 9   2Model A  265000   46     2014     04 TO 06  2018-07\\n499A     TAMPINES AVE 9   2Model A  278000   46     2014     10 TO 12  2018-08\\n499A     TAMPINES AVE 9   2Model A  265000   46     2014     07 TO 09  2019-09\\n499A     TAMPINES AVE 9   2Model A  257000   46     2014     01 TO 03  2020-10\\n499A     TAMPINES AVE 9   2Model A  270000   46     2014     01 TO 03  2021-01\\n499A     TAMPINES AVE 9   2Model A  330000   46     2014     10 TO 12  2022-03\\n499A     TAMPINES AVE 9   2Model A  250000   46     2014     04 TO 06  2020-06\\n499B     TAMPINES AVE 9   2Model A  250000   46     2014     04 TO 06  2020-03\\n499B     TAMPINES AVE 9   2Model A  260000   46     2014     01 TO 03  2018-09\\n499B     TAMPINES AVE 9   2Model A  270000   46     2014     01 TO 03  2018-08\\n499B     TAMPINES AVE 9   2Model A  265000   46     2014     04 TO 06  2021-10\\n499B     TAMPINES AVE 9   2Model A  295000   46     2014     04 TO 06  2021-11\\n499B     TAMPINES AVE 9   2Model A  245000   46     2014     01 TO 03  2019-05\\n499B     TAMPINES AVE 9   2Model A  245000   46     2014     07 TO 09  2019-08\\n499B     TAMPINES AVE 9   22-room   238000   46     2014     01 TO 03  2021-01\\n499B     TAMPINES AVE 9   2Model A  302000   46     2014     07 TO 09  2022-02\\n499B     TAMPINES AVE 9   2Model A  250000   46     2014     04 TO 06  2017-12\\n499B     TAMPINES AVE 9   2Model A  240000   46     2014     04 TO 06  2019-10\\n499B     TAMPINES AVE 9   2Model A  268000   46     2014     07 TO 09  2018-05\\n499B     TAMPINES AVE 9   2Model A  281000   46     2014     07 TO 09  2018-07\\n499B     TAMPINES AVE 9   22-room   290000   46     2014     04 TO 06  2021-07\\n515A     TAMPINES CTRL 7  2DBSS     300000   50     2008     01 TO 03  2019-01\\n522A     TAMPINES CTRL 7  2Model A  308000   47     2015     07 TO 09  2021-04\\n522A     TAMPINES CTRL 7  2Model A  285000   47     2015     01 TO 03  2021-03\\n522A     TAMPINES CTRL 7  2Model A  277000   47     2015     07 TO 09  2019-05\\n522A     TAMPINES CTRL 7  2Model A  262000   47     2015     04 TO 06  2019-07\\n522A     TAMPINES CTRL 7  2Model A  285000   47     2015     07 TO 09  2019-08\\n522A     TAMPINES CTRL 7  2Model A  288000   47     2015     13 TO 15  2019-08\\n522A     TAMPINES CTRL 7  2Model A  282000   47     2015     04 TO 06  2020-01\\n523B     TAMPINES CTRL 7  2Model A  300000   47     2015     16 TO 18  2021-07\\n523B     TAMPINES CTRL 7  2Model A  275000   47     2015     07 TO 09  2021-03\\n523B     TAMPINES CTRL 7  2Model A  315000   47     2015     13 TO 15  2021-08\\n523B     TAMPINES CTRL 7  2Model A  288000   47     2015     10 TO 12  2021-02\\n523B     TAMPINES CTRL 7  2Model A  327000   47     2015     16 TO 18  2022-03\\n524B     TAMPINES CTRL 7  2Model A  280000   47     2015     01 TO 03  2021-05\\n524B     TAMPINES CTRL 7  2Model A  288000   47     2015     10 TO 12  2021-04'"
      ]
     },
     "execution_count": 4,
     "metadata": {},
     "output_type": "execute_result"
    },
    {
     "name": "stderr",
     "output_type": "stream",
     "text": [
      "2022-04-17 05:39:53,062 - telegram.ext.dispatcher - ERROR - No error handlers are registered, logging exception.\n",
      "Traceback (most recent call last):\n",
      "  File \"/opt/conda/lib/python3.9/site-packages/telegram/ext/dispatcher.py\", line 555, in process_update\n",
      "    handler.handle_update(update, self, check, context)\n",
      "  File \"/opt/conda/lib/python3.9/site-packages/telegram/ext/handler.py\", line 198, in handle_update\n",
      "    return self.callback(update, context)\n",
      "  File \"/tmp/ipykernel_553/1182369680.py\", line 30, in r2\n",
      "    df = df.sort_values(by='block').set_index('block').reindex(columns=['street_name','flat_type','flat_model','resale_price','floor_area_sqm','lease_commence_date','storey_range','month'])\n",
      "  File \"/opt/conda/lib/python3.9/site-packages/pandas/util/_decorators.py\", line 311, in wrapper\n",
      "    return func(*args, **kwargs)\n",
      "  File \"/opt/conda/lib/python3.9/site-packages/pandas/core/frame.py\", line 6307, in sort_values\n",
      "    k = self._get_label_or_level_values(by, axis=axis)\n",
      "  File \"/opt/conda/lib/python3.9/site-packages/pandas/core/generic.py\", line 1848, in _get_label_or_level_values\n",
      "    raise KeyError(key)\n",
      "KeyError: 'block'\n",
      "2022-04-17 05:40:12,738 - telegram.ext.dispatcher - ERROR - No error handlers are registered, logging exception.\n",
      "Traceback (most recent call last):\n",
      "  File \"/opt/conda/lib/python3.9/site-packages/telegram/ext/dispatcher.py\", line 555, in process_update\n",
      "    handler.handle_update(update, self, check, context)\n",
      "  File \"/opt/conda/lib/python3.9/site-packages/telegram/ext/handler.py\", line 198, in handle_update\n",
      "    return self.callback(update, context)\n",
      "  File \"/tmp/ipykernel_553/1182369680.py\", line 30, in r2\n",
      "    df = df.sort_values(by='block').set_index('block').reindex(columns=['street_name','flat_type','flat_model','resale_price','floor_area_sqm','lease_commence_date','storey_range','month'])\n",
      "  File \"/opt/conda/lib/python3.9/site-packages/pandas/util/_decorators.py\", line 311, in wrapper\n",
      "    return func(*args, **kwargs)\n",
      "  File \"/opt/conda/lib/python3.9/site-packages/pandas/core/frame.py\", line 6307, in sort_values\n",
      "    k = self._get_label_or_level_values(by, axis=axis)\n",
      "  File \"/opt/conda/lib/python3.9/site-packages/pandas/core/generic.py\", line 1848, in _get_label_or_level_values\n",
      "    raise KeyError(key)\n",
      "KeyError: 'block'\n"
     ]
    }
   ],
   "source": [
    "### for testing API and response only\n",
    "def pulldata(rooms, town):\n",
    "    if rooms==\"\":\n",
    "        url = \"https://data.gov.sg/api/action/datastore_search?resource_id=f1765b54-a209-4718-8d38-a39237f502b3&fields=month,block,street_name,flat_type,flat_model,resale_price,floor_area_sqm,lease_commence_date,storey_range&sort=month%20desc&limit=100&q=\"+town\n",
    "    else:\n",
    "        url = \"https://data.gov.sg/api/action/datastore_search?resource_id=f1765b54-a209-4718-8d38-a39237f502b3&fields=month,block,street_name,flat_type,flat_model,resale_price,floor_area_sqm,lease_commence_date,storey_range&sort=month%20desc&limit=100&filters={\\\"flat_type\\\":\\\"\"+rooms.upper()+\"\\\",\\\"town\\\":\\\"\"+town.upper()+\"\\\"}\"\n",
    "        print(url)\n",
    "    response=requests.get(url)\n",
    "    dataset=response.json()\n",
    "    df = pd.json_normalize(dataset['result'], \"records\")  \n",
    "    df = df.sort_values(by='block').set_index('block').reindex(columns=['street_name','flat_type','flat_model','resale_price','floor_area_sqm','lease_commence_date','storey_range','month'])\n",
    "    df.rename(columns={'street_name': 'street', 'flat_type': 'type', 'resale_price': 'price', 'lease_commence_date': 'built', 'storey_range': 'floor', 'floor_area_sqm': 'sqm', 'flat_model': 'model', 'month': 'sold'}, inplace=True)\n",
    "    df.replace(['2 ROOM', '3 ROOM', '4 ROOM', '5 ROOM', 'New Generation', 'Standard', 'EXECUTIVE', 'Maisonette', 'Simplified', 'Improved'],['2','3','4','5','NG','Std','E','M','S','I'], inplace=True) \n",
    "    df['type']=df['type']+df['model']\n",
    "    df.drop('model', axis=1, inplace=True)\n",
    "    dft=tabulate(df, headers='keys', tablefmt='plain', numalign='left')\n",
    "    return dft\n",
    "\n",
    "pulldata(\"2 room\", \"tampines\")\n",
    "### testing return image\n",
    "#import matplotlib.pyplot as plt\n",
    "#ax = plt.subplot(frame_on=False) # no visible frame\n",
    "#ax.xaxis.set_visible(False)  # hide the x axis\n",
    "#ax.yaxis.set_visible(False)  # hide the y axis\n",
    "#table(ax, df)  # where df is your data frame\n",
    "#plt.rcParams[\"figure.figsize\"] = (18, 1)\n",
    "#plt.savefig('mytable.png')\n",
    "\n"
   ]
  }
 ],
 "metadata": {
  "colab": {
   "collapsed_sections": [],
   "name": "resaleHDBpx.ipynb",
   "provenance": []
  },
  "kernelspec": {
   "display_name": "Python 3 (ipykernel)",
   "language": "python",
   "name": "python3"
  },
  "language_info": {
   "codemirror_mode": {
    "name": "ipython",
    "version": 3
   },
   "file_extension": ".py",
   "mimetype": "text/x-python",
   "name": "python",
   "nbconvert_exporter": "python",
   "pygments_lexer": "ipython3",
   "version": "3.9.10"
  }
 },
 "nbformat": 4,
 "nbformat_minor": 4
}
